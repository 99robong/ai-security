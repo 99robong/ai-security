{
  "nbformat": 4,
  "nbformat_minor": 0,
  "metadata": {
    "colab": {
      "name": "5weeks seongbin silsep.ipynb",
      "provenance": [],
      "collapsed_sections": [],
      "include_colab_link": true
    },
    "kernelspec": {
      "name": "python3",
      "display_name": "Python 3"
    }
  },
  "cells": [
    {
      "cell_type": "markdown",
      "metadata": {
        "id": "view-in-github",
        "colab_type": "text"
      },
      "source": [
        "<a href=\"https://colab.research.google.com/github/seong-bin-yun/ai-security/blob/master/5th%20week/5weeks_seongbin_silsep.ipynb\" target=\"_parent\"><img src=\"https://colab.research.google.com/assets/colab-badge.svg\" alt=\"Open In Colab\"/></a>"
      ]
    },
    {
      "cell_type": "code",
      "metadata": {
        "id": "Ub0wp2p9fDar",
        "colab_type": "code",
        "colab": {
          "base_uri": "https://localhost:8080/",
          "height": 52
        },
        "outputId": "2b385f37-ef9a-4d3c-94b7-9c8c73fe69f7"
      },
      "source": [
        "a= 100\n",
        "print(a)\n",
        "a=10.54\n",
        "print(a)"
      ],
      "execution_count": 2,
      "outputs": [
        {
          "output_type": "stream",
          "text": [
            "100\n",
            "10.54\n"
          ],
          "name": "stdout"
        }
      ]
    },
    {
      "cell_type": "code",
      "metadata": {
        "id": "8smJLKvYf1eG",
        "colab_type": "code",
        "colab": {
          "base_uri": "https://localhost:8080/",
          "height": 52
        },
        "outputId": "918d08b6-33ea-4cec-e4fc-d4db7f016b84"
      },
      "source": [
        "b=\"this is string type\"\n",
        "print(b)\n",
        "\n",
        "b=\"a\"\n",
        "print(b)"
      ],
      "execution_count": 3,
      "outputs": [
        {
          "output_type": "stream",
          "text": [
            "this is string type\n",
            "a\n"
          ],
          "name": "stdout"
        }
      ]
    },
    {
      "cell_type": "code",
      "metadata": {
        "id": "2vl2jZs7f_2H",
        "colab_type": "code",
        "colab": {
          "base_uri": "https://localhost:8080/",
          "height": 34
        },
        "outputId": "6e11bc80-27d2-43fb-d8b1-ae4f4bfdbff3"
      },
      "source": [
        "list_arry = [1,4,6,\"abc\", \"ddg\"]\n",
        "print(list_arry)"
      ],
      "execution_count": 4,
      "outputs": [
        {
          "output_type": "stream",
          "text": [
            "[1, 4, 6, 'abc', 'ddg']\n"
          ],
          "name": "stdout"
        }
      ]
    },
    {
      "cell_type": "code",
      "metadata": {
        "id": "P0WJr7f2gP8t",
        "colab_type": "code",
        "colab": {
          "base_uri": "https://localhost:8080/",
          "height": 34
        },
        "outputId": "f1b25346-3ee9-48f0-defd-c3e15a30b85c"
      },
      "source": [
        "list_arry_2=[list_arry,5,2]\n",
        "print(list_arry_2)"
      ],
      "execution_count": 9,
      "outputs": [
        {
          "output_type": "stream",
          "text": [
            "[[1, 4, 6, 'abc', 'ddg'], 5, 2]\n"
          ],
          "name": "stdout"
        }
      ]
    },
    {
      "cell_type": "code",
      "metadata": {
        "id": "-7P4zTJtgnze",
        "colab_type": "code",
        "colab": {
          "base_uri": "https://localhost:8080/",
          "height": 34
        },
        "outputId": "c0f812e7-dfbd-464f-9686-3a93de377a2a"
      },
      "source": [
        "tuple_arry = (3,5,2,\"ggd\")\n",
        "print(tuple_arry)"
      ],
      "execution_count": 10,
      "outputs": [
        {
          "output_type": "stream",
          "text": [
            "(3, 5, 2, 'ggd')\n"
          ],
          "name": "stdout"
        }
      ]
    },
    {
      "cell_type": "code",
      "metadata": {
        "id": "QdqB4hlBgvg2",
        "colab_type": "code",
        "colab": {
          "base_uri": "https://localhost:8080/",
          "height": 169
        },
        "outputId": "03f09fcb-12b9-42a8-e0dd-36c472702387"
      },
      "source": [
        "del tuple_arry[0]"
      ],
      "execution_count": 11,
      "outputs": [
        {
          "output_type": "error",
          "ename": "TypeError",
          "evalue": "ignored",
          "traceback": [
            "\u001b[0;31m---------------------------------------------------------------------------\u001b[0m",
            "\u001b[0;31mTypeError\u001b[0m                                 Traceback (most recent call last)",
            "\u001b[0;32m<ipython-input-11-400baae9fd20>\u001b[0m in \u001b[0;36m<module>\u001b[0;34m()\u001b[0m\n\u001b[0;32m----> 1\u001b[0;31m \u001b[0;32mdel\u001b[0m \u001b[0mtuple_arry\u001b[0m\u001b[0;34m[\u001b[0m\u001b[0;36m0\u001b[0m\u001b[0;34m]\u001b[0m\u001b[0;34m\u001b[0m\u001b[0;34m\u001b[0m\u001b[0m\n\u001b[0m",
            "\u001b[0;31mTypeError\u001b[0m: 'tuple' object doesn't support item deletion"
          ]
        }
      ]
    },
    {
      "cell_type": "code",
      "metadata": {
        "id": "8c1-Y85cg3L2",
        "colab_type": "code",
        "colab": {
          "base_uri": "https://localhost:8080/",
          "height": 34
        },
        "outputId": "60415b5e-055e-4082-97d6-68bb8064fb4e"
      },
      "source": [
        "dic_arry = {1: \"first\", 2: \"second\", \"third\" : 3}\n",
        "print(dic_arry)"
      ],
      "execution_count": 12,
      "outputs": [
        {
          "output_type": "stream",
          "text": [
            "{1: 'first', 2: 'second', 'third': 3}\n"
          ],
          "name": "stdout"
        }
      ]
    },
    {
      "cell_type": "code",
      "metadata": {
        "id": "uKQ_kglChLpl",
        "colab_type": "code",
        "colab": {
          "base_uri": "https://localhost:8080/",
          "height": 169
        },
        "outputId": "34ade108-cdae-4ac4-b9fe-596cb816e2f1"
      },
      "source": [
        "print(dic_arry[3])"
      ],
      "execution_count": 13,
      "outputs": [
        {
          "output_type": "error",
          "ename": "KeyError",
          "evalue": "ignored",
          "traceback": [
            "\u001b[0;31m---------------------------------------------------------------------------\u001b[0m",
            "\u001b[0;31mKeyError\u001b[0m                                  Traceback (most recent call last)",
            "\u001b[0;32m<ipython-input-13-59b1108f857d>\u001b[0m in \u001b[0;36m<module>\u001b[0;34m()\u001b[0m\n\u001b[0;32m----> 1\u001b[0;31m \u001b[0mprint\u001b[0m\u001b[0;34m(\u001b[0m\u001b[0mdic_arry\u001b[0m\u001b[0;34m[\u001b[0m\u001b[0;36m3\u001b[0m\u001b[0;34m]\u001b[0m\u001b[0;34m)\u001b[0m\u001b[0;34m\u001b[0m\u001b[0;34m\u001b[0m\u001b[0m\n\u001b[0m",
            "\u001b[0;31mKeyError\u001b[0m: 3"
          ]
        }
      ]
    },
    {
      "cell_type": "code",
      "metadata": {
        "id": "IHfFixNUhRsr",
        "colab_type": "code",
        "colab": {
          "base_uri": "https://localhost:8080/",
          "height": 52
        },
        "outputId": "04e673a1-29c3-4379-f9f1-a54bb10434a8"
      },
      "source": [
        "print(dic_arry[\"third\"])\n",
        "print(dic_arry[2])"
      ],
      "execution_count": 15,
      "outputs": [
        {
          "output_type": "stream",
          "text": [
            "3\n",
            "second\n"
          ],
          "name": "stdout"
        }
      ]
    },
    {
      "cell_type": "code",
      "metadata": {
        "id": "ttLWVlp1hXaV",
        "colab_type": "code",
        "colab": {
          "base_uri": "https://localhost:8080/",
          "height": 34
        },
        "outputId": "aeb818d8-fce3-4e13-f74b-759945534a82"
      },
      "source": [
        "set_arry = set(\"heelo\")\n",
        "print(set_arry)"
      ],
      "execution_count": 16,
      "outputs": [
        {
          "output_type": "stream",
          "text": [
            "{'h', 'l', 'e', 'o'}\n"
          ],
          "name": "stdout"
        }
      ]
    },
    {
      "cell_type": "code",
      "metadata": {
        "id": "d4s1Az2dhg2-",
        "colab_type": "code",
        "colab": {
          "base_uri": "https://localhost:8080/",
          "height": 34
        },
        "outputId": "b84f8439-6730-4af9-d324-b0e979e09a1e"
      },
      "source": [
        "c = True\n",
        "type(c)"
      ],
      "execution_count": 17,
      "outputs": [
        {
          "output_type": "execute_result",
          "data": {
            "text/plain": [
              "bool"
            ]
          },
          "metadata": {
            "tags": []
          },
          "execution_count": 17
        }
      ]
    },
    {
      "cell_type": "code",
      "metadata": {
        "id": "pRxhX4-1hk7V",
        "colab_type": "code",
        "colab": {
          "base_uri": "https://localhost:8080/",
          "height": 34
        },
        "outputId": "ff19ba83-e140-4ede-c9e1-6cd27fca19cd"
      },
      "source": [
        "sum = 0\n",
        "for i in range(10):\n",
        "  sum += i\n",
        "  \n",
        "print(sum)"
      ],
      "execution_count": 18,
      "outputs": [
        {
          "output_type": "stream",
          "text": [
            "45\n"
          ],
          "name": "stdout"
        }
      ]
    },
    {
      "cell_type": "code",
      "metadata": {
        "id": "3HugHVQ9hvil",
        "colab_type": "code",
        "colab": {
          "base_uri": "https://localhost:8080/",
          "height": 34
        },
        "outputId": "dcde17fa-c5e6-4286-f8da-3a320f3db55c"
      },
      "source": [
        "sum=0\n",
        "for i in range(1,11):\n",
        "  sum+=i\n",
        "print(sum)"
      ],
      "execution_count": 19,
      "outputs": [
        {
          "output_type": "stream",
          "text": [
            "55\n"
          ],
          "name": "stdout"
        }
      ]
    },
    {
      "cell_type": "code",
      "metadata": {
        "id": "N23y5Gaxh4xV",
        "colab_type": "code",
        "colab": {
          "base_uri": "https://localhost:8080/",
          "height": 210
        },
        "outputId": "31e96d1f-cb6f-45fe-e858-ff758e18fc11"
      },
      "source": [
        "treeHit=0\n",
        "while treeHit <10 :\n",
        "  treeHit +=1\n",
        "  print(\"나무를 %d 번 찍었습니다\" %treeHit)\n",
        "  if treeHit ==10 :\n",
        "    print(\"나무가 넘어간드아~\")"
      ],
      "execution_count": 23,
      "outputs": [
        {
          "output_type": "stream",
          "text": [
            "나무를 1 번 찍었습니다\n",
            "나무를 2 번 찍었습니다\n",
            "나무를 3 번 찍었습니다\n",
            "나무를 4 번 찍었습니다\n",
            "나무를 5 번 찍었습니다\n",
            "나무를 6 번 찍었습니다\n",
            "나무를 7 번 찍었습니다\n",
            "나무를 8 번 찍었습니다\n",
            "나무를 9 번 찍었습니다\n",
            "나무를 10 번 찍었습니다\n",
            "나무가 넘어간드아~\n"
          ],
          "name": "stdout"
        }
      ]
    },
    {
      "cell_type": "code",
      "metadata": {
        "id": "RaSyxc11iX1_",
        "colab_type": "code",
        "colab": {
          "base_uri": "https://localhost:8080/",
          "height": 70
        },
        "outputId": "88357d3b-3c46-44fc-d463-c4419033ed40"
      },
      "source": [
        "for j in list_arry_2:\n",
        "  print(j)"
      ],
      "execution_count": 24,
      "outputs": [
        {
          "output_type": "stream",
          "text": [
            "[1, 4, 6, 'abc', 'ddg']\n",
            "5\n",
            "2\n"
          ],
          "name": "stdout"
        }
      ]
    },
    {
      "cell_type": "code",
      "metadata": {
        "id": "W-5aAwgcihl3",
        "colab_type": "code",
        "colab": {
          "base_uri": "https://localhost:8080/",
          "height": 70
        },
        "outputId": "3c2658ba-b63a-4b5a-8194-27d9e363c0a6"
      },
      "source": [
        "money = 1000\n",
        "if money >5000 :\n",
        "  print(\"택시 타자!\")\n",
        "elif money >1250 :\n",
        "  print(\"대중교통 타자!\")\n",
        "else:\n",
        "  print(\"걸어가라..\")\n",
        "\n",
        "money = 2500\n",
        "if money >5000 :\n",
        "  print(\"택시 타자!\")\n",
        "elif money >1250 :\n",
        "  print(\"대중교통 타자!\")\n",
        "else:\n",
        "  print(\"걸어가라..\")\n",
        "\n",
        "money = 10000\n",
        "if money >5000 :\n",
        "  print(\"택시 타자!\")\n",
        "elif money >1250 :\n",
        "  print(\"대중교통 타자!\")\n",
        "else:\n",
        "  print(\"걸어가라..\")"
      ],
      "execution_count": 25,
      "outputs": [
        {
          "output_type": "stream",
          "text": [
            "걸어가라..\n",
            "대중교통 타자!\n",
            "택시 타자!\n"
          ],
          "name": "stdout"
        }
      ]
    },
    {
      "cell_type": "code",
      "metadata": {
        "id": "Dbxo2NcajC2O",
        "colab_type": "code",
        "colab": {
          "base_uri": "https://localhost:8080/",
          "height": 70
        },
        "outputId": "8903d6e3-3964-469d-c762-fab4c3298783"
      },
      "source": [
        "def HowToGo(money) :\n",
        "  if money >5000 :\n",
        "    print(\"택시 타자!\")\n",
        "  elif money >1250 :\n",
        "    print(\"대중교통 타자!\")\n",
        "  else:\n",
        "    print(\"걸어가라..\")\n",
        "  \n",
        "HowToGo(1000)\n",
        "HowToGo(2500)\n",
        "HowToGo(10000)"
      ],
      "execution_count": 28,
      "outputs": [
        {
          "output_type": "stream",
          "text": [
            "걸어가라..\n",
            "대중교통 타자!\n",
            "택시 타자!\n"
          ],
          "name": "stdout"
        }
      ]
    },
    {
      "cell_type": "code",
      "metadata": {
        "id": "p-tLzx4WjbBW",
        "colab_type": "code",
        "colab": {
          "base_uri": "https://localhost:8080/",
          "height": 52
        },
        "outputId": "69166f92-9009-4a13-df4a-a1ac8beba170"
      },
      "source": [
        "class calculator:\n",
        "  def __init__(self):\n",
        "    self.result = 0\n",
        "    \n",
        "  def add(self,a,b):\n",
        "    self.result = a+b\n",
        "    return self.result\n",
        "  def minus(self, a, b):\n",
        "    self.result = a-b\n",
        "    return self.result\n",
        "  \n",
        "cal = calculator()\n",
        "\n",
        "print(cal.add(4,5))\n",
        "print(cal.minus(3,9))"
      ],
      "execution_count": 29,
      "outputs": [
        {
          "output_type": "stream",
          "text": [
            "9\n",
            "-6\n"
          ],
          "name": "stdout"
        }
      ]
    },
    {
      "cell_type": "code",
      "metadata": {
        "id": "j_CmPkYWj9SC",
        "colab_type": "code",
        "colab": {
          "base_uri": "https://localhost:8080/",
          "height": 34
        },
        "outputId": "28abf9e7-a010-4ac2-9098-34901c4b48df"
      },
      "source": [
        "print(list_arry[3][2])"
      ],
      "execution_count": 30,
      "outputs": [
        {
          "output_type": "stream",
          "text": [
            "c\n"
          ],
          "name": "stdout"
        }
      ]
    },
    {
      "cell_type": "code",
      "metadata": {
        "id": "BIz_IEfBlohx",
        "colab_type": "code",
        "colab": {}
      },
      "source": [
        "import torch"
      ],
      "execution_count": 0,
      "outputs": []
    },
    {
      "cell_type": "code",
      "metadata": {
        "id": "nEccRyfzmD8Q",
        "colab_type": "code",
        "colab": {}
      },
      "source": [
        "t = torch"
      ],
      "execution_count": 0,
      "outputs": []
    },
    {
      "cell_type": "code",
      "metadata": {
        "id": "eApC50jXmIi_",
        "colab_type": "code",
        "colab": {
          "base_uri": "https://localhost:8080/",
          "height": 105
        },
        "outputId": "2bcf4718-7843-4717-d3c7-b357e25c915e"
      },
      "source": [
        "x= t.empty(5,3)\n",
        "print(x)"
      ],
      "execution_count": 35,
      "outputs": [
        {
          "output_type": "stream",
          "text": [
            "tensor([[8.3805e-37, 0.0000e+00, 4.4842e-44],\n",
            "        [0.0000e+00,        nan, 9.8439e-12],\n",
            "        [6.5922e-10, 6.5643e-07, 8.1996e-10],\n",
            "        [5.2358e+22, 1.6876e-07, 4.2052e-05],\n",
            "        [4.2194e-08, 4.4203e-05, 1.8269e+34]])\n"
          ],
          "name": "stdout"
        }
      ]
    },
    {
      "cell_type": "code",
      "metadata": {
        "id": "AAM4Y8YJmRiQ",
        "colab_type": "code",
        "colab": {
          "base_uri": "https://localhost:8080/",
          "height": 105
        },
        "outputId": "cda075f6-e039-4a56-b9f8-8217dd44dc2b"
      },
      "source": [
        "x = t.rand(5,3)\n",
        "print(x)"
      ],
      "execution_count": 40,
      "outputs": [
        {
          "output_type": "stream",
          "text": [
            "tensor([[0.6330, 0.2104, 0.0762],\n",
            "        [0.5818, 0.5085, 0.8963],\n",
            "        [0.6602, 0.3170, 0.0613],\n",
            "        [0.4115, 0.8763, 0.2247],\n",
            "        [0.1993, 0.1235, 0.6995]])\n"
          ],
          "name": "stdout"
        }
      ]
    },
    {
      "cell_type": "code",
      "metadata": {
        "id": "q7HnQ3ZJmYq_",
        "colab_type": "code",
        "colab": {
          "base_uri": "https://localhost:8080/",
          "height": 105
        },
        "outputId": "344c0f30-6482-4ebe-a61e-725dd21280a1"
      },
      "source": [
        "x= t.zeros(5,3,dtype = t.long)\n",
        "print(x)"
      ],
      "execution_count": 38,
      "outputs": [
        {
          "output_type": "stream",
          "text": [
            "tensor([[0, 0, 0],\n",
            "        [0, 0, 0],\n",
            "        [0, 0, 0],\n",
            "        [0, 0, 0],\n",
            "        [0, 0, 0]])\n"
          ],
          "name": "stdout"
        }
      ]
    },
    {
      "cell_type": "code",
      "metadata": {
        "id": "rKB4vvIKmhhX",
        "colab_type": "code",
        "colab": {
          "base_uri": "https://localhost:8080/",
          "height": 34
        },
        "outputId": "e9a8c112-79a0-4278-92b5-cd3ab048751d"
      },
      "source": [
        "x = t.tensor([5.5, 3])\n",
        "print(x)"
      ],
      "execution_count": 41,
      "outputs": [
        {
          "output_type": "stream",
          "text": [
            "tensor([5.5000, 3.0000])\n"
          ],
          "name": "stdout"
        }
      ]
    },
    {
      "cell_type": "code",
      "metadata": {
        "id": "c91IHFpjmo7v",
        "colab_type": "code",
        "colab": {
          "base_uri": "https://localhost:8080/",
          "height": 175
        },
        "outputId": "19f429fc-4b52-4029-a24c-5bd455c28520"
      },
      "source": [
        "x= t.rand(3,4)\n",
        "y= t.rand(3,4)\n",
        "z= t.add(x,y)\n",
        "\n",
        "print(x,y,z, sep = \"\\n\")"
      ],
      "execution_count": 42,
      "outputs": [
        {
          "output_type": "stream",
          "text": [
            "tensor([[0.6464, 0.0294, 0.2148, 0.7845],\n",
            "        [0.3392, 0.5315, 0.6172, 0.0592],\n",
            "        [0.1882, 0.4660, 0.9686, 0.6285]])\n",
            "tensor([[0.0173, 0.5721, 0.3355, 0.4938],\n",
            "        [0.8204, 0.3040, 0.0092, 0.4065],\n",
            "        [0.7679, 0.2461, 0.3362, 0.1633]])\n",
            "tensor([[0.6637, 0.6016, 0.5503, 1.2783],\n",
            "        [1.1596, 0.8355, 0.6264, 0.4656],\n",
            "        [0.9562, 0.7121, 1.3048, 0.7918]])\n"
          ],
          "name": "stdout"
        }
      ]
    },
    {
      "cell_type": "code",
      "metadata": {
        "id": "N86S5kQQmhbu",
        "colab_type": "code",
        "colab": {}
      },
      "source": [
        ""
      ],
      "execution_count": 0,
      "outputs": []
    }
  ]
}