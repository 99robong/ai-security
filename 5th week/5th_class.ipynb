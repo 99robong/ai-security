{
  "nbformat": 4,
  "nbformat_minor": 0,
  "metadata": {
    "colab": {
      "name": "5th class.ipynb의 사본",
      "provenance": [],
      "collapsed_sections": [],
      "include_colab_link": true
    },
    "kernelspec": {
      "name": "python3",
      "display_name": "Python 3"
    }
  },
  "cells": [
    {
      "cell_type": "markdown",
      "metadata": {
        "id": "view-in-github",
        "colab_type": "text"
      },
      "source": [
        "<a href=\"https://colab.research.google.com/github/tjdghks994/ai-security/blob/master/5th%20week/5th_class.ipynb\" target=\"_parent\"><img src=\"https://colab.research.google.com/assets/colab-badge.svg\" alt=\"Open In Colab\"/></a>"
      ]
    },
    {
      "cell_type": "code",
      "metadata": {
        "id": "MDp2pwDZfKaZ",
        "colab_type": "code",
        "outputId": "8d594b8b-8490-425f-f516-b31b83c4d818",
        "colab": {
          "base_uri": "https://localhost:8080/",
          "height": 34
        }
      },
      "source": [
        "a = 100\n",
        "print(a)"
      ],
      "execution_count": 0,
      "outputs": [
        {
          "output_type": "stream",
          "text": [
            "100\n"
          ],
          "name": "stdout"
        }
      ]
    },
    {
      "cell_type": "code",
      "metadata": {
        "id": "ZQbqVwhjfR3M",
        "colab_type": "code",
        "outputId": "711cce21-0386-407d-d559-ddf3fcd8ab6f",
        "colab": {
          "base_uri": "https://localhost:8080/",
          "height": 34
        }
      },
      "source": [
        "sum = 0 \n",
        "for i in range(10):\n",
        "  sum += i\n",
        "  print(sum)"
      ],
      "execution_count": 0,
      "outputs": [
        {
          "output_type": "stream",
          "text": [
            "45\n"
          ],
          "name": "stdout"
        }
      ]
    },
    {
      "cell_type": "code",
      "metadata": {
        "id": "y6wPejxGkQBy",
        "colab_type": "code",
        "outputId": "285277cb-1fa4-4962-c67a-63c64c5d03b6",
        "colab": {
          "base_uri": "https://localhost:8080/",
          "height": 34
        }
      },
      "source": [
        "list_ary = [1,2,3,[4,5,6]]\n",
        "print(list_ary[3][2])"
      ],
      "execution_count": 0,
      "outputs": [
        {
          "output_type": "stream",
          "text": [
            "6\n"
          ],
          "name": "stdout"
        }
      ]
    },
    {
      "cell_type": "code",
      "metadata": {
        "id": "ueqWz6AFlhnZ",
        "colab_type": "code",
        "outputId": "1a7f42af-ff3b-4a9d-8221-8e245a085784",
        "colab": {
          "base_uri": "https://localhost:8080/",
          "height": 186
        }
      },
      "source": [
        "x = torch.zero(5,3)\n",
        "print(x)"
      ],
      "execution_count": 0,
      "outputs": [
        {
          "output_type": "error",
          "ename": "AttributeError",
          "evalue": "ignored",
          "traceback": [
            "\u001b[0;31m---------------------------------------------------------------------------\u001b[0m",
            "\u001b[0;31mAttributeError\u001b[0m                            Traceback (most recent call last)",
            "\u001b[0;32m<ipython-input-6-91ed35f4e7e7>\u001b[0m in \u001b[0;36m<module>\u001b[0;34m()\u001b[0m\n\u001b[0;32m----> 1\u001b[0;31m \u001b[0mx\u001b[0m \u001b[0;34m=\u001b[0m \u001b[0mtorch\u001b[0m\u001b[0;34m.\u001b[0m\u001b[0mzero\u001b[0m\u001b[0;34m(\u001b[0m\u001b[0;36m5\u001b[0m\u001b[0;34m,\u001b[0m\u001b[0;36m3\u001b[0m\u001b[0;34m)\u001b[0m\u001b[0;34m\u001b[0m\u001b[0;34m\u001b[0m\u001b[0m\n\u001b[0m\u001b[1;32m      2\u001b[0m \u001b[0mprint\u001b[0m\u001b[0;34m(\u001b[0m\u001b[0mx\u001b[0m\u001b[0;34m)\u001b[0m\u001b[0;34m\u001b[0m\u001b[0;34m\u001b[0m\u001b[0m\n",
            "\u001b[0;31mAttributeError\u001b[0m: module 'torch' has no attribute 'zero'"
          ]
        }
      ]
    },
    {
      "cell_type": "code",
      "metadata": {
        "id": "TYQRxtOll5fo",
        "colab_type": "code",
        "colab": {}
      },
      "source": [
        "import torch"
      ],
      "execution_count": 0,
      "outputs": []
    },
    {
      "cell_type": "code",
      "metadata": {
        "id": "u4gH2HYPl99E",
        "colab_type": "code",
        "colab": {}
      },
      "source": [
        "x = torch.empty(5,3)"
      ],
      "execution_count": 0,
      "outputs": []
    },
    {
      "cell_type": "code",
      "metadata": {
        "id": "Fo-0dQ1ymDR0",
        "colab_type": "code",
        "outputId": "5770c335-cc00-49e2-f835-51270af02ff0",
        "colab": {
          "base_uri": "https://localhost:8080/",
          "height": 104
        }
      },
      "source": [
        "print(x)"
      ],
      "execution_count": 0,
      "outputs": [
        {
          "output_type": "stream",
          "text": [
            "tensor([[1.3303e-36, 0.0000e+00, 3.3631e-44],\n",
            "        [0.0000e+00,        nan, 1.9097e-19],\n",
            "        [1.1578e+27, 1.1362e+30, 7.1547e+22],\n",
            "        [4.5828e+30, 1.2121e+04, 7.1846e+22],\n",
            "        [9.2198e-39, 7.0374e+22, 3.5873e-43]])\n"
          ],
          "name": "stdout"
        }
      ]
    },
    {
      "cell_type": "code",
      "metadata": {
        "id": "IzQ3dq7cmESw",
        "colab_type": "code",
        "colab": {}
      },
      "source": [
        "x = torch.rand(5,3)"
      ],
      "execution_count": 0,
      "outputs": []
    },
    {
      "cell_type": "code",
      "metadata": {
        "id": "ZvMs4S-dmUy4",
        "colab_type": "code",
        "colab": {}
      },
      "source": [
        "y = torch.rand(5,3)"
      ],
      "execution_count": 0,
      "outputs": []
    },
    {
      "cell_type": "code",
      "metadata": {
        "id": "VsjuWWgamYK0",
        "colab_type": "code",
        "outputId": "9cf6fb34-2a8d-47ac-c197-a44b965a3468",
        "colab": {
          "base_uri": "https://localhost:8080/",
          "height": 279
        }
      },
      "source": [
        "print(x,y,sep=\"\\n\")\n",
        "print(torch.add(x,y))"
      ],
      "execution_count": 0,
      "outputs": [
        {
          "output_type": "stream",
          "text": [
            "tensor([[0.2070, 0.7149, 0.2719],\n",
            "        [0.6347, 0.3362, 0.5248],\n",
            "        [0.5506, 0.1865, 0.6972],\n",
            "        [0.8311, 0.2920, 0.1257],\n",
            "        [0.3560, 0.4882, 0.9862]])\n",
            "tensor([[0.4892, 0.7167, 0.8941],\n",
            "        [0.1527, 0.7263, 0.3918],\n",
            "        [0.4668, 0.8687, 0.7185],\n",
            "        [0.1798, 0.4231, 0.6740],\n",
            "        [0.7115, 0.7832, 0.5034]])\n",
            "tensor([[0.6962, 1.4316, 1.1659],\n",
            "        [0.7874, 1.0625, 0.9166],\n",
            "        [1.0174, 1.0552, 1.4158],\n",
            "        [1.0109, 0.7151, 0.7997],\n",
            "        [1.0676, 1.2714, 1.4896]])\n"
          ],
          "name": "stdout"
        }
      ]
    },
    {
      "cell_type": "code",
      "metadata": {
        "id": "GB0k__6LmgiJ",
        "colab_type": "code",
        "colab": {}
      },
      "source": [
        ""
      ],
      "execution_count": 0,
      "outputs": []
    }
  ]
}