{
  "nbformat": 4,
  "nbformat_minor": 0,
  "metadata": {
    "colab": {
      "name": "Haeunko_5th.ipynb의 사본",
      "provenance": [],
      "collapsed_sections": [],
      "include_colab_link": true
    },
    "kernelspec": {
      "name": "python3",
      "display_name": "Python 3"
    }
  },
  "cells": [
    {
      "cell_type": "markdown",
      "metadata": {
        "id": "view-in-github",
        "colab_type": "text"
      },
      "source": [
        "<a href=\"https://colab.research.google.com/github/hekoh99/ai-security/blob/master/5th%20week/Haeunko_5th_ipynb%EC%9D%98_%EC%82%AC%EB%B3%B8.ipynb\" target=\"_parent\"><img src=\"https://colab.research.google.com/assets/colab-badge.svg\" alt=\"Open In Colab\"/></a>"
      ]
    },
    {
      "cell_type": "code",
      "metadata": {
        "id": "DwkWFT1jfQqJ",
        "colab_type": "code",
        "outputId": "b800147f-5bc3-41a1-86e3-2690c0122719",
        "colab": {
          "base_uri": "https://localhost:8080/",
          "height": 52
        }
      },
      "source": [
        "a = 100\n",
        "print(a)\n",
        "\n",
        "a = 10.54\n",
        "print(a)"
      ],
      "execution_count": 0,
      "outputs": [
        {
          "output_type": "stream",
          "text": [
            "100\n",
            "10.54\n"
          ],
          "name": "stdout"
        }
      ]
    },
    {
      "cell_type": "code",
      "metadata": {
        "id": "WuXewBcPftHa",
        "colab_type": "code",
        "outputId": "59d3983b-5132-4471-e7d8-07373917689a",
        "colab": {
          "base_uri": "https://localhost:8080/",
          "height": 52
        }
      },
      "source": [
        "b = 'this is string type'\n",
        "print(b)\n",
        "\n",
        "b = 'a'\n",
        "print(b)\n",
        "\n"
      ],
      "execution_count": 0,
      "outputs": [
        {
          "output_type": "stream",
          "text": [
            "this is string type\n",
            "a\n"
          ],
          "name": "stdout"
        }
      ]
    },
    {
      "cell_type": "code",
      "metadata": {
        "id": "6eAt46WqpEP6",
        "colab_type": "code",
        "colab": {}
      },
      "source": [
        "from google.colab import drive\n",
        "drive.mount('/content/drive')"
      ],
      "execution_count": 0,
      "outputs": []
    },
    {
      "cell_type": "code",
      "metadata": {
        "id": "AjqYPooff2LZ",
        "colab_type": "code",
        "outputId": "80c5092c-63d6-4f7f-d2af-fefe21330145",
        "colab": {
          "base_uri": "https://localhost:8080/",
          "height": 34
        }
      },
      "source": [
        "list_arry = [1,4,6,\"abc\", \"ddg\"]\n",
        "print(list_arry)"
      ],
      "execution_count": 0,
      "outputs": [
        {
          "output_type": "stream",
          "text": [
            "[1, 4, 6, 'abc', 'ddg']\n"
          ],
          "name": "stdout"
        }
      ]
    },
    {
      "cell_type": "code",
      "metadata": {
        "id": "Eca381wFgCQc",
        "colab_type": "code",
        "outputId": "a19a6276-1346-4fcd-be55-2a1c6bcb93e9",
        "colab": {
          "base_uri": "https://localhost:8080/",
          "height": 34
        }
      },
      "source": [
        "list_arry2 = [5,2,list_arry]\n",
        "print(list_arry)"
      ],
      "execution_count": 0,
      "outputs": [
        {
          "output_type": "stream",
          "text": [
            "[1, 4, 6, 'abc', 'ddg']\n"
          ],
          "name": "stdout"
        }
      ]
    },
    {
      "cell_type": "code",
      "metadata": {
        "id": "6wxLh6ozgJlB",
        "colab_type": "code",
        "outputId": "a7cb4e8b-e483-4eb5-e2cb-2fbe0f2d3812",
        "colab": {
          "base_uri": "https://localhost:8080/",
          "height": 34
        }
      },
      "source": [
        "tuple_arry = (3,5,2,\"gdd\")\n",
        "print(tuple_arry)"
      ],
      "execution_count": 0,
      "outputs": [
        {
          "output_type": "stream",
          "text": [
            "(3, 5, 2, 'gdd')\n"
          ],
          "name": "stdout"
        }
      ]
    },
    {
      "cell_type": "code",
      "metadata": {
        "id": "cPDV8qS1gRfs",
        "colab_type": "code",
        "outputId": "bc4ef13b-a16f-44d0-8185-0ec748e4c3c7",
        "colab": {
          "base_uri": "https://localhost:8080/",
          "height": 169
        }
      },
      "source": [
        "del tuple_arry[0]"
      ],
      "execution_count": 0,
      "outputs": [
        {
          "output_type": "error",
          "ename": "TypeError",
          "evalue": "ignored",
          "traceback": [
            "\u001b[0;31m---------------------------------------------------------------------------\u001b[0m",
            "\u001b[0;31mTypeError\u001b[0m                                 Traceback (most recent call last)",
            "\u001b[0;32m<ipython-input-6-400baae9fd20>\u001b[0m in \u001b[0;36m<module>\u001b[0;34m()\u001b[0m\n\u001b[0;32m----> 1\u001b[0;31m \u001b[0;32mdel\u001b[0m \u001b[0mtuple_arry\u001b[0m\u001b[0;34m[\u001b[0m\u001b[0;36m0\u001b[0m\u001b[0;34m]\u001b[0m\u001b[0;34m\u001b[0m\u001b[0;34m\u001b[0m\u001b[0m\n\u001b[0m",
            "\u001b[0;31mTypeError\u001b[0m: 'tuple' object doesn't support item deletion"
          ]
        }
      ]
    },
    {
      "cell_type": "code",
      "metadata": {
        "id": "7Sdo2OjIgVVu",
        "colab_type": "code",
        "outputId": "73f0179a-28dc-48f1-f842-a6e156354ff5",
        "colab": {
          "base_uri": "https://localhost:8080/",
          "height": 34
        }
      },
      "source": [
        "dic_arry = {1:\"first\", 2:\"second\", \"third\":3}\n",
        "print(dic_arry)"
      ],
      "execution_count": 0,
      "outputs": [
        {
          "output_type": "stream",
          "text": [
            "{1: 'first', 2: 'second', 'third': 3}\n"
          ],
          "name": "stdout"
        }
      ]
    },
    {
      "cell_type": "code",
      "metadata": {
        "id": "vLKxRAq7gkJ6",
        "colab_type": "code",
        "outputId": "58d4c2c0-33c4-444e-ae4b-23427483ac09",
        "colab": {
          "base_uri": "https://localhost:8080/",
          "height": 169
        }
      },
      "source": [
        "print(dic_arry[3])"
      ],
      "execution_count": 0,
      "outputs": [
        {
          "output_type": "error",
          "ename": "KeyError",
          "evalue": "ignored",
          "traceback": [
            "\u001b[0;31m---------------------------------------------------------------------------\u001b[0m",
            "\u001b[0;31mKeyError\u001b[0m                                  Traceback (most recent call last)",
            "\u001b[0;32m<ipython-input-8-59b1108f857d>\u001b[0m in \u001b[0;36m<module>\u001b[0;34m()\u001b[0m\n\u001b[0;32m----> 1\u001b[0;31m \u001b[0mprint\u001b[0m\u001b[0;34m(\u001b[0m\u001b[0mdic_arry\u001b[0m\u001b[0;34m[\u001b[0m\u001b[0;36m3\u001b[0m\u001b[0;34m]\u001b[0m\u001b[0;34m)\u001b[0m\u001b[0;34m\u001b[0m\u001b[0;34m\u001b[0m\u001b[0m\n\u001b[0m",
            "\u001b[0;31mKeyError\u001b[0m: 3"
          ]
        }
      ]
    },
    {
      "cell_type": "code",
      "metadata": {
        "id": "_IjM9la2gnY2",
        "colab_type": "code",
        "outputId": "d71352be-279f-4c0e-b8ac-b101be5cf9c2",
        "colab": {
          "base_uri": "https://localhost:8080/",
          "height": 34
        }
      },
      "source": [
        "print(dic_arry[\"third\"])\n"
      ],
      "execution_count": 0,
      "outputs": [
        {
          "output_type": "stream",
          "text": [
            "3\n"
          ],
          "name": "stdout"
        }
      ]
    },
    {
      "cell_type": "code",
      "metadata": {
        "id": "VwfqzDF8gsOH",
        "colab_type": "code",
        "outputId": "32a0b4b5-c147-4f8d-8aa5-178cdc9237c6",
        "colab": {
          "base_uri": "https://localhost:8080/",
          "height": 34
        }
      },
      "source": [
        "set_arry = set(\"heelo\")\n",
        "print(set_arry)"
      ],
      "execution_count": 0,
      "outputs": [
        {
          "output_type": "stream",
          "text": [
            "{'h', 'o', 'l', 'e'}\n"
          ],
          "name": "stdout"
        }
      ]
    },
    {
      "cell_type": "code",
      "metadata": {
        "id": "te3JK5cOg0k5",
        "colab_type": "code",
        "outputId": "523cab67-9b64-40e3-fe92-f1d5c6968ad0",
        "colab": {
          "base_uri": "https://localhost:8080/",
          "height": 34
        }
      },
      "source": [
        "c = True\n",
        "type(c)"
      ],
      "execution_count": 0,
      "outputs": [
        {
          "output_type": "execute_result",
          "data": {
            "text/plain": [
              "bool"
            ]
          },
          "metadata": {
            "tags": []
          },
          "execution_count": 11
        }
      ]
    },
    {
      "cell_type": "code",
      "metadata": {
        "id": "MFZqqDdKkJCG",
        "colab_type": "code",
        "outputId": "af9d25ae-74de-412d-db0f-9f725c3bc77b",
        "colab": {
          "base_uri": "https://localhost:8080/",
          "height": 34
        }
      },
      "source": [
        "sum = 0\n",
        "for i in range(10):\n",
        "  sum += i\n",
        "print(sum)"
      ],
      "execution_count": 0,
      "outputs": [
        {
          "output_type": "stream",
          "text": [
            "45\n"
          ],
          "name": "stdout"
        }
      ]
    },
    {
      "cell_type": "code",
      "metadata": {
        "id": "wzHdVhb5kgGk",
        "colab_type": "code",
        "outputId": "5e0ce307-d212-42d7-d32e-fd09eee80031",
        "colab": {
          "base_uri": "https://localhost:8080/",
          "height": 34
        }
      },
      "source": [
        "sum = 0\n",
        "for i in range(1,11):\n",
        "  sum += i\n",
        "print(sum)"
      ],
      "execution_count": 0,
      "outputs": [
        {
          "output_type": "stream",
          "text": [
            "55\n"
          ],
          "name": "stdout"
        }
      ]
    },
    {
      "cell_type": "code",
      "metadata": {
        "id": "2JLtnXFRknKe",
        "colab_type": "code",
        "outputId": "c256d614-21bb-4916-c8ce-1669496078b1",
        "colab": {
          "base_uri": "https://localhost:8080/",
          "height": 210
        }
      },
      "source": [
        "treeHit = 0\n",
        "while treeHit <10:\n",
        "  treeHit += 1\n",
        "  print(\"나무를 %d 번 찍었습니다\" %treeHit)\n",
        "  if treeHit == 10:\n",
        "    print(\"나무가 넘어갑니다\")\n",
        "  "
      ],
      "execution_count": 0,
      "outputs": [
        {
          "output_type": "stream",
          "text": [
            "나무를 1 번 찍었습니다\n",
            "나무를 2 번 찍었습니다\n",
            "나무를 3 번 찍었습니다\n",
            "나무를 4 번 찍었습니다\n",
            "나무를 5 번 찍었습니다\n",
            "나무를 6 번 찍었습니다\n",
            "나무를 7 번 찍었습니다\n",
            "나무를 8 번 찍었습니다\n",
            "나무를 9 번 찍었습니다\n",
            "나무를 10 번 찍었습니다\n",
            "나무가 넘어갑니다\n"
          ],
          "name": "stdout"
        }
      ]
    },
    {
      "cell_type": "code",
      "metadata": {
        "id": "Zi3H0nuyk8Ro",
        "colab_type": "code",
        "outputId": "1a514d02-195a-437c-c7d2-ef6377ac9b58",
        "colab": {
          "base_uri": "https://localhost:8080/",
          "height": 70
        }
      },
      "source": [
        "for j in list_arry2:\n",
        "  print(j)"
      ],
      "execution_count": 0,
      "outputs": [
        {
          "output_type": "stream",
          "text": [
            "5\n",
            "2\n",
            "[1, 4, 6, 'abc', 'ddg']\n"
          ],
          "name": "stdout"
        }
      ]
    },
    {
      "cell_type": "code",
      "metadata": {
        "id": "S_3HcQBql0--",
        "colab_type": "code",
        "colab": {}
      },
      "source": [
        "import torch"
      ],
      "execution_count": 0,
      "outputs": []
    },
    {
      "cell_type": "code",
      "metadata": {
        "id": "MQiOZrXDl5m5",
        "colab_type": "code",
        "outputId": "6ba5aa19-81c4-467b-e8f5-be0a68f5eb67",
        "colab": {
          "base_uri": "https://localhost:8080/",
          "height": 105
        }
      },
      "source": [
        "x = torch.empty(5,3)\n",
        "print(x)"
      ],
      "execution_count": 0,
      "outputs": [
        {
          "output_type": "stream",
          "text": [
            "tensor([[2.6855e-36, 0.0000e+00, 3.3631e-44],\n",
            "        [0.0000e+00,        nan, 6.7233e-37],\n",
            "        [1.1578e+27, 1.1362e+30, 7.1547e+22],\n",
            "        [4.5828e+30, 1.2121e+04, 7.1846e+22],\n",
            "        [9.2198e-39, 7.0374e+22, 3.4668e-33]])\n"
          ],
          "name": "stdout"
        }
      ]
    },
    {
      "cell_type": "code",
      "metadata": {
        "id": "cht8CJ9SmJBy",
        "colab_type": "code",
        "outputId": "5f27715a-bbb3-487e-cdd1-602a7d25a798",
        "colab": {
          "base_uri": "https://localhost:8080/",
          "height": 105
        }
      },
      "source": [
        "x = torch.rand(5,3)\n",
        "print(x)"
      ],
      "execution_count": 0,
      "outputs": [
        {
          "output_type": "stream",
          "text": [
            "tensor([[0.5538, 0.7168, 0.2828],\n",
            "        [0.0690, 0.6378, 0.9056],\n",
            "        [0.3023, 0.0840, 0.2205],\n",
            "        [0.7330, 0.5286, 0.9989],\n",
            "        [0.5239, 0.5825, 0.9847]])\n"
          ],
          "name": "stdout"
        }
      ]
    },
    {
      "cell_type": "code",
      "metadata": {
        "id": "a9vrb_ixmP3l",
        "colab_type": "code",
        "outputId": "40a938db-b9b7-4995-d253-75a1d7275e4e",
        "colab": {
          "base_uri": "https://localhost:8080/",
          "height": 105
        }
      },
      "source": [
        "x = torch.zeros(5,3,dtype=torch.long)\n",
        "print(x)"
      ],
      "execution_count": 0,
      "outputs": [
        {
          "output_type": "stream",
          "text": [
            "tensor([[0, 0, 0],\n",
            "        [0, 0, 0],\n",
            "        [0, 0, 0],\n",
            "        [0, 0, 0],\n",
            "        [0, 0, 0]])\n"
          ],
          "name": "stdout"
        }
      ]
    },
    {
      "cell_type": "code",
      "metadata": {
        "id": "0Ii3pnCNmcMn",
        "colab_type": "code",
        "outputId": "52171d13-bc6d-45a8-b5a4-3b0c54688b89",
        "colab": {
          "base_uri": "https://localhost:8080/",
          "height": 34
        }
      },
      "source": [
        "x = torch.tensor([5.5,3])\n",
        "print(x)\n"
      ],
      "execution_count": 0,
      "outputs": [
        {
          "output_type": "stream",
          "text": [
            "tensor([5.5000, 3.0000])\n"
          ],
          "name": "stdout"
        }
      ]
    },
    {
      "cell_type": "code",
      "metadata": {
        "id": "vs07rnQXmiKK",
        "colab_type": "code",
        "outputId": "2b6b53ca-c35c-4b4e-a2cb-80cd99c646f3",
        "colab": {
          "base_uri": "https://localhost:8080/",
          "height": 175
        }
      },
      "source": [
        "x = torch.rand(3,4)\n",
        "y = torch.rand(3,4)\n",
        "z = torch.add(x,y)\n",
        "\n",
        "print(x,y,z, sep = \"\\n\")"
      ],
      "execution_count": 0,
      "outputs": [
        {
          "output_type": "stream",
          "text": [
            "tensor([[0.5533, 0.8060, 0.6283, 0.2839],\n",
            "        [0.8188, 0.9486, 0.0872, 0.3410],\n",
            "        [0.6231, 0.9142, 0.8028, 0.0272]])\n",
            "tensor([[0.5527, 0.7259, 0.1559, 0.0022],\n",
            "        [0.3766, 0.4018, 0.3022, 0.5408],\n",
            "        [0.8655, 0.1709, 0.7044, 0.6192]])\n",
            "tensor([[1.1060, 1.5320, 0.7842, 0.2861],\n",
            "        [1.1954, 1.3503, 0.3894, 0.8818],\n",
            "        [1.4886, 1.0851, 1.5071, 0.6464]])\n"
          ],
          "name": "stdout"
        }
      ]
    }
  ]
}