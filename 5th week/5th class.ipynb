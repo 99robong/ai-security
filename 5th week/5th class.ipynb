{
  "nbformat": 4,
  "nbformat_minor": 0,
  "metadata": {
    "colab": {
      "name": "Jaegeon 10.2.ipynb",
      "provenance": [],
      "collapsed_sections": [],
      "include_colab_link": true
    },
    "kernelspec": {
      "name": "python3",
      "display_name": "Python 3"
    }
  },
  "cells": [
    {
      "cell_type": "markdown",
      "metadata": {
        "id": "view-in-github",
        "colab_type": "text"
      },
      "source": [
        "<a href=\"https://colab.research.google.com/github/choe1842/ai-security/blob/master/5th%20week/5th%20class.ipynb\" target=\"_parent\"><img src=\"https://colab.research.google.com/assets/colab-badge.svg\" alt=\"Open In Colab\"/></a>"
      ]
    },
    {
      "cell_type": "code",
      "metadata": {
        "id": "7yuJgEhQfym0",
        "colab_type": "code",
        "colab": {
          "base_uri": "https://localhost:8080/",
          "height": 34
        },
        "outputId": "7bf96819-e5e9-4907-b1dc-c4de6987f905"
      },
      "source": [
        "dic_array = {1:\"first\", 2:\"second\", 3:\"third\"}\n",
        "print(dic_array)"
      ],
      "execution_count": 2,
      "outputs": [
        {
          "output_type": "stream",
          "text": [
            "{1: 'first', 2: 'second', 3: 'third'}\n"
          ],
          "name": "stdout"
        }
      ]
    },
    {
      "cell_type": "code",
      "metadata": {
        "id": "ZU4fD1fHhHE5",
        "colab_type": "code",
        "colab": {
          "base_uri": "https://localhost:8080/",
          "height": 210
        },
        "outputId": "47190f0a-8953-4a59-b993-e85ee70d94f6"
      },
      "source": [
        "treehit = 0\n",
        "while treehit < 10:\n",
        "  treehit += 1\n",
        "  print(\"나무를 %d번 찍었습니다\" %treehit)\n",
        "  if treehit == 10:\n",
        "    print(\"나무가 넘어갑니다~~\")"
      ],
      "execution_count": 4,
      "outputs": [
        {
          "output_type": "stream",
          "text": [
            "나무를 1번 찍었습니다\n",
            "나무를 2번 찍었습니다\n",
            "나무를 3번 찍었습니다\n",
            "나무를 4번 찍었습니다\n",
            "나무를 5번 찍었습니다\n",
            "나무를 6번 찍었습니다\n",
            "나무를 7번 찍었습니다\n",
            "나무를 8번 찍었습니다\n",
            "나무를 9번 찍었습니다\n",
            "나무를 10번 찍었습니다\n",
            "나무가 넘어갑니다~~\n"
          ],
          "name": "stdout"
        }
      ]
    },
    {
      "cell_type": "code",
      "metadata": {
        "id": "cX7JrdtDi1dV",
        "colab_type": "code",
        "colab": {
          "base_uri": "https://localhost:8080/",
          "height": 70
        },
        "outputId": "3ad560a6-5790-4c81-9fe7-4424e6decb96"
      },
      "source": [
        "def HowToGo(money):\n",
        "  if money >= 5000:\n",
        "    print(\"택시 타\")\n",
        "   \n",
        "  elif money >= 1250:\n",
        "    print(\"버스 타\")\n",
        "   \n",
        "  else:\n",
        "    print(\"걸어가\")\n",
        "    \n",
        "HowToGo(1000)\n",
        "HowToGo(2500)\n",
        "HowToGo(10000)\n",
        "   "
      ],
      "execution_count": 5,
      "outputs": [
        {
          "output_type": "stream",
          "text": [
            "걸어가\n",
            "버스 타\n",
            "택시 타\n"
          ],
          "name": "stdout"
        }
      ]
    },
    {
      "cell_type": "code",
      "metadata": {
        "id": "RvEq5Qp2jToD",
        "colab_type": "code",
        "colab": {
          "base_uri": "https://localhost:8080/",
          "height": 105
        },
        "outputId": "379b7aed-c569-4025-aee4-c92bdfc30eec"
      },
      "source": [
        "class Cal:\n",
        "    def __init__(self):\n",
        "        self.result = 0\n",
        "    def add(self, num):\n",
        "        self.result += num\n",
        "        return self.result\n",
        "    def sub(self, num):\n",
        "        self.result -= num\n",
        "        return self.result\n",
        "\n",
        "cal1 = Cal()\n",
        "cal2 = Cal()\n",
        "\n",
        "print(cal1.add(3))\n",
        "print(cal1.add(10))\n",
        "print(cal2.add(65))\n",
        "print(cal2.add(9))\n",
        "print(cal2.sub(65))\n"
      ],
      "execution_count": 6,
      "outputs": [
        {
          "output_type": "stream",
          "text": [
            "3\n",
            "13\n",
            "65\n",
            "74\n",
            "9\n"
          ],
          "name": "stdout"
        }
      ]
    },
    {
      "cell_type": "code",
      "metadata": {
        "id": "vCUQKlD0kfRx",
        "colab_type": "code",
        "colab": {
          "base_uri": "https://localhost:8080/",
          "height": 34
        },
        "outputId": "25ee9961-2048-4357-a4ae-f6f6f3e0fd1d"
      },
      "source": [
        "list_ary = [1,2,3,[4,5,6]]\n",
        "print(list_ary[3][2])"
      ],
      "execution_count": 7,
      "outputs": [
        {
          "output_type": "stream",
          "text": [
            "6\n"
          ],
          "name": "stdout"
        }
      ]
    },
    {
      "cell_type": "code",
      "metadata": {
        "id": "Z4ZKf4ATlhPU",
        "colab_type": "code",
        "colab": {
          "base_uri": "https://localhost:8080/",
          "height": 105
        },
        "outputId": "31cd1157-97c7-44b7-956e-ea54c545dc79"
      },
      "source": [
        "import torch\n",
        "x = torch.empty(5,3)\n",
        "print(x)\n"
      ],
      "execution_count": 9,
      "outputs": [
        {
          "output_type": "stream",
          "text": [
            "tensor([[ 1.0122e-36,  0.0000e+00,  3.3631e-44],\n",
            "        [ 0.0000e+00,         nan,  6.2858e-39],\n",
            "        [ 1.1578e+27,  1.1362e+30,  7.1547e+22],\n",
            "        [ 4.5828e+30,  1.2121e+04,  7.1846e+22],\n",
            "        [ 9.2198e-39,  7.0374e+22, -1.0643e+15]])\n"
          ],
          "name": "stdout"
        }
      ]
    },
    {
      "cell_type": "code",
      "metadata": {
        "id": "YuzNWGPjmWWc",
        "colab_type": "code",
        "colab": {
          "base_uri": "https://localhost:8080/",
          "height": 281
        },
        "outputId": "b0f1ea41-f3ba-4616-c705-503884ba76be"
      },
      "source": [
        "x = torch.rand(5,3)\n",
        "y = torch.rand(5,3)\n",
        "\n",
        "print(x,y,sep=\"\\n\")\n",
        "print(torch.add(x,y))"
      ],
      "execution_count": 10,
      "outputs": [
        {
          "output_type": "stream",
          "text": [
            "tensor([[0.6852, 0.7887, 0.0880],\n",
            "        [0.1136, 0.7488, 0.5666],\n",
            "        [0.5881, 0.6385, 0.9341],\n",
            "        [0.0834, 0.7242, 0.8900],\n",
            "        [0.2041, 0.4679, 0.8513]])\n",
            "tensor([[0.9014, 0.6036, 0.9518],\n",
            "        [0.5836, 0.7350, 0.3249],\n",
            "        [0.7906, 0.9711, 0.2420],\n",
            "        [0.2678, 0.5786, 0.1454],\n",
            "        [0.4233, 0.5183, 0.1336]])\n",
            "tensor([[1.5865, 1.3923, 1.0397],\n",
            "        [0.6972, 1.4838, 0.8915],\n",
            "        [1.3787, 1.6096, 1.1762],\n",
            "        [0.3512, 1.3027, 1.0354],\n",
            "        [0.6274, 0.9862, 0.9850]])\n"
          ],
          "name": "stdout"
        }
      ]
    }
  ]
}