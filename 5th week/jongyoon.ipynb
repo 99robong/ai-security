{
  "nbformat": 4,
  "nbformat_minor": 0,
  "metadata": {
    "colab": {
      "name": "5th class.ipynb",
      "provenance": [],
      "collapsed_sections": []
    },
    "kernelspec": {
      "name": "python3",
      "display_name": "Python 3"
    }
  },
  "cells": [
    {
      "cell_type": "code",
      "metadata": {
        "id": "yO_GJBVRflbQ",
        "colab_type": "code",
        "colab": {
          "base_uri": "https://localhost:8080/",
          "height": 52
        },
        "outputId": "37755cab-d91d-436e-9e3d-dd9fff91ae49"
      },
      "source": [
        "a=100\n",
        "print(a)\n",
        "a=10.54\n",
        "print(a)\n"
      ],
      "execution_count": 1,
      "outputs": [
        {
          "output_type": "stream",
          "text": [
            "100\n",
            "10.54\n"
          ],
          "name": "stdout"
        }
      ]
    },
    {
      "cell_type": "code",
      "metadata": {
        "id": "4HZd9DwuggCC",
        "colab_type": "code",
        "colab": {
          "base_uri": "https://localhost:8080/",
          "height": 52
        },
        "outputId": "ab791550-122c-4825-f0db-218554bf6cc3"
      },
      "source": [
        "b=\"this is string type\"\n",
        "print(b)\n",
        "b=\"a\"\n",
        "print(b)"
      ],
      "execution_count": 2,
      "outputs": [
        {
          "output_type": "stream",
          "text": [
            "this is string type\n",
            "a\n"
          ],
          "name": "stdout"
        }
      ]
    },
    {
      "cell_type": "code",
      "metadata": {
        "id": "7Jd4Krq_gryP",
        "colab_type": "code",
        "colab": {
          "base_uri": "https://localhost:8080/",
          "height": 34
        },
        "outputId": "ff49b6f0-b5e9-4632-a688-fdfd480195ca"
      },
      "source": [
        "list_arry = [1,4,6,\"abc\",\"ddg\"]\n",
        "print(list_arry)"
      ],
      "execution_count": 3,
      "outputs": [
        {
          "output_type": "stream",
          "text": [
            "[1, 4, 6, 'abc', 'ddg']\n"
          ],
          "name": "stdout"
        }
      ]
    },
    {
      "cell_type": "code",
      "metadata": {
        "id": "cioUbYQ6gykd",
        "colab_type": "code",
        "colab": {
          "base_uri": "https://localhost:8080/",
          "height": 34
        },
        "outputId": "c1f220a0-ba2b-4b6c-b381-d4c8ce4bbd87"
      },
      "source": [
        "list_arry_2=[5,2,list_arry]\n",
        "print(list_arry_2)"
      ],
      "execution_count": 4,
      "outputs": [
        {
          "output_type": "stream",
          "text": [
            "[5, 2, [1, 4, 6, 'abc', 'ddg']]\n"
          ],
          "name": "stdout"
        }
      ]
    },
    {
      "cell_type": "code",
      "metadata": {
        "id": "vN7oKAq3g4cp",
        "colab_type": "code",
        "colab": {
          "base_uri": "https://localhost:8080/",
          "height": 34
        },
        "outputId": "0ee5b873-afa6-461f-c2b5-31e015c36249"
      },
      "source": [
        "tuple_arry = (3,5,2,\"gdd\")\n",
        "print(tuple_arry)"
      ],
      "execution_count": 5,
      "outputs": [
        {
          "output_type": "stream",
          "text": [
            "(3, 5, 2, 'gdd')\n"
          ],
          "name": "stdout"
        }
      ]
    },
    {
      "cell_type": "code",
      "metadata": {
        "id": "ZJpANjGWg8jj",
        "colab_type": "code",
        "colab": {
          "base_uri": "https://localhost:8080/",
          "height": 169
        },
        "outputId": "6e864803-e361-403c-918c-e7b1f939d12b"
      },
      "source": [
        "del tuple_arry[0]"
      ],
      "execution_count": 6,
      "outputs": [
        {
          "output_type": "error",
          "ename": "TypeError",
          "evalue": "ignored",
          "traceback": [
            "\u001b[0;31m---------------------------------------------------------------------------\u001b[0m",
            "\u001b[0;31mTypeError\u001b[0m                                 Traceback (most recent call last)",
            "\u001b[0;32m<ipython-input-6-400baae9fd20>\u001b[0m in \u001b[0;36m<module>\u001b[0;34m()\u001b[0m\n\u001b[0;32m----> 1\u001b[0;31m \u001b[0;32mdel\u001b[0m \u001b[0mtuple_arry\u001b[0m\u001b[0;34m[\u001b[0m\u001b[0;36m0\u001b[0m\u001b[0;34m]\u001b[0m\u001b[0;34m\u001b[0m\u001b[0;34m\u001b[0m\u001b[0m\n\u001b[0m",
            "\u001b[0;31mTypeError\u001b[0m: 'tuple' object doesn't support item deletion"
          ]
        }
      ]
    },
    {
      "cell_type": "code",
      "metadata": {
        "id": "vq4ePpM_hAco",
        "colab_type": "code",
        "colab": {
          "base_uri": "https://localhost:8080/",
          "height": 34
        },
        "outputId": "1695d8b4-fd8a-492e-9bf9-41a85873946f"
      },
      "source": [
        "dic_arry = {1:\"first\", 2:\"second\", \"third\":3}\n",
        "print(dic_arry)"
      ],
      "execution_count": 9,
      "outputs": [
        {
          "output_type": "stream",
          "text": [
            "{1: 'first', 2: 'second', 'third': 3}\n"
          ],
          "name": "stdout"
        }
      ]
    },
    {
      "cell_type": "code",
      "metadata": {
        "id": "Ov30LlorhI96",
        "colab_type": "code",
        "colab": {
          "base_uri": "https://localhost:8080/",
          "height": 169
        },
        "outputId": "80c352fd-7b57-4477-d538-aa6066e10846"
      },
      "source": [
        "print(dic_arry_3)"
      ],
      "execution_count": 10,
      "outputs": [
        {
          "output_type": "error",
          "ename": "NameError",
          "evalue": "ignored",
          "traceback": [
            "\u001b[0;31m---------------------------------------------------------------------------\u001b[0m",
            "\u001b[0;31mNameError\u001b[0m                                 Traceback (most recent call last)",
            "\u001b[0;32m<ipython-input-10-95a794b0f913>\u001b[0m in \u001b[0;36m<module>\u001b[0;34m()\u001b[0m\n\u001b[0;32m----> 1\u001b[0;31m \u001b[0mprint\u001b[0m\u001b[0;34m(\u001b[0m\u001b[0mdic_arry_3\u001b[0m\u001b[0;34m)\u001b[0m\u001b[0;34m\u001b[0m\u001b[0;34m\u001b[0m\u001b[0m\n\u001b[0m",
            "\u001b[0;31mNameError\u001b[0m: name 'dic_arry_3' is not defined"
          ]
        }
      ]
    },
    {
      "cell_type": "code",
      "metadata": {
        "id": "TBkp3nFxhSIV",
        "colab_type": "code",
        "colab": {
          "base_uri": "https://localhost:8080/",
          "height": 34
        },
        "outputId": "f4b676d2-5524-40c4-83a9-c76f0d158495"
      },
      "source": [
        "print(dic_arry[\"third\"])"
      ],
      "execution_count": 11,
      "outputs": [
        {
          "output_type": "stream",
          "text": [
            "3\n"
          ],
          "name": "stdout"
        }
      ]
    },
    {
      "cell_type": "code",
      "metadata": {
        "id": "oXBbgxWJhWIy",
        "colab_type": "code",
        "colab": {
          "base_uri": "https://localhost:8080/",
          "height": 34
        },
        "outputId": "3d86a45e-9a31-49ab-99c0-a122d62316d6"
      },
      "source": [
        "set_arry=set(\"heelo\")\n",
        "print(set_arry)"
      ],
      "execution_count": 13,
      "outputs": [
        {
          "output_type": "stream",
          "text": [
            "{'h', 'o', 'e', 'l'}\n"
          ],
          "name": "stdout"
        }
      ]
    },
    {
      "cell_type": "code",
      "metadata": {
        "id": "X6CofY8Rha_T",
        "colab_type": "code",
        "colab": {
          "base_uri": "https://localhost:8080/",
          "height": 34
        },
        "outputId": "5056a437-747e-4f84-d33a-27cdc0fa906f"
      },
      "source": [
        "c = True\n",
        "type(c)"
      ],
      "execution_count": 14,
      "outputs": [
        {
          "output_type": "execute_result",
          "data": {
            "text/plain": [
              "bool"
            ]
          },
          "metadata": {
            "tags": []
          },
          "execution_count": 14
        }
      ]
    },
    {
      "cell_type": "code",
      "metadata": {
        "id": "gGgAmFkzhnz8",
        "colab_type": "code",
        "colab": {
          "base_uri": "https://localhost:8080/",
          "height": 34
        },
        "outputId": "3e1af87b-9a8d-44d9-eaa6-0d2947b8da88"
      },
      "source": [
        "sum = 0\n",
        "for i in range(10):\n",
        "  sum += i\n",
        "print(sum)"
      ],
      "execution_count": 16,
      "outputs": [
        {
          "output_type": "stream",
          "text": [
            "45\n"
          ],
          "name": "stdout"
        }
      ]
    },
    {
      "cell_type": "code",
      "metadata": {
        "id": "khqbPD01iRuR",
        "colab_type": "code",
        "colab": {
          "base_uri": "https://localhost:8080/",
          "height": 34
        },
        "outputId": "a58dcafe-653b-41bc-a5a0-33d9deddaaf7"
      },
      "source": [
        "sum = 0\n",
        "for i in range(1,11):\n",
        "  sum += i\n",
        "print(sum)"
      ],
      "execution_count": 17,
      "outputs": [
        {
          "output_type": "stream",
          "text": [
            "55\n"
          ],
          "name": "stdout"
        }
      ]
    },
    {
      "cell_type": "code",
      "metadata": {
        "id": "KLB6GuFtiaUA",
        "colab_type": "code",
        "colab": {
          "base_uri": "https://localhost:8080/",
          "height": 210
        },
        "outputId": "8cc17242-b9c9-42a3-99d3-ea5386e8a9c6"
      },
      "source": [
        "treeHit = 0\n",
        "while treeHit < 10:\n",
        "  treeHit += 1\n",
        "  print(\"나무를 %d번 찍었습니다\" %treeHit)\n",
        "  if treeHit == 10:\n",
        "    print(\"나무가 넘어갑니다\")"
      ],
      "execution_count": 19,
      "outputs": [
        {
          "output_type": "stream",
          "text": [
            "나무를 1번 찍었습니다\n",
            "나무를 2번 찍었습니다\n",
            "나무를 3번 찍었습니다\n",
            "나무를 4번 찍었습니다\n",
            "나무를 5번 찍었습니다\n",
            "나무를 6번 찍었습니다\n",
            "나무를 7번 찍었습니다\n",
            "나무를 8번 찍었습니다\n",
            "나무를 9번 찍었습니다\n",
            "나무를 10번 찍었습니다\n",
            "나무가 넘어갑니다\n"
          ],
          "name": "stdout"
        }
      ]
    },
    {
      "cell_type": "code",
      "metadata": {
        "id": "2QYRZXnWimbA",
        "colab_type": "code",
        "colab": {
          "base_uri": "https://localhost:8080/",
          "height": 70
        },
        "outputId": "ecabb037-15ff-4d70-838a-5bae31e2b8ff"
      },
      "source": [
        "for j in list_arry_2:\n",
        "  print(j)"
      ],
      "execution_count": 20,
      "outputs": [
        {
          "output_type": "stream",
          "text": [
            "5\n",
            "2\n",
            "[1, 4, 6, 'abc', 'ddg']\n"
          ],
          "name": "stdout"
        }
      ]
    },
    {
      "cell_type": "code",
      "metadata": {
        "id": "ArBQ-W1TiqVB",
        "colab_type": "code",
        "colab": {
          "base_uri": "https://localhost:8080/",
          "height": 70
        },
        "outputId": "7fc99183-232b-43eb-bec0-7378041c1c1a"
      },
      "source": [
        "money = 1000\n",
        "if money > 5000:\n",
        "  print(\"택시를 타고 가자!\")\n",
        "elif money > 1250:\n",
        "  print(\"대중교통을 이용하자!\")\n",
        "else:\n",
        "  print(\"걸어가라...\")\n",
        "  \n",
        "money = 2500\n",
        "if money > 5000:\n",
        "  print(\"택시를 타고 가자!\")\n",
        "elif money > 1250:\n",
        "  print(\"대중교통을 타고 가자!\")\n",
        "else:\n",
        "  print(\"걸어가라...\")\n",
        "\n",
        "  \n",
        "money = 10000\n",
        "if money > 5000:\n",
        "  print(\"택시를 타고 가자!\")\n",
        "elif money>1250:\n",
        "  print(\"대중교통을 이용하자!\")\n",
        "else:\n",
        "  print(\"걸어가라...\")\n",
        "    "
      ],
      "execution_count": 21,
      "outputs": [
        {
          "output_type": "stream",
          "text": [
            "걸어가라...\n",
            "대중교통을 타고 가자!\n",
            "택시를 타고 가자!\n"
          ],
          "name": "stdout"
        }
      ]
    },
    {
      "cell_type": "code",
      "metadata": {
        "id": "l6vUiAEIjSc-",
        "colab_type": "code",
        "colab": {
          "base_uri": "https://localhost:8080/",
          "height": 70
        },
        "outputId": "5f55e2cb-4506-4f96-bd9c-f5e6d452cf51"
      },
      "source": [
        "def HowToGo(money):\n",
        "  if money > 5000:\n",
        "    print(\"택시를 타고 가자!\")\n",
        "  elif money>1250:\n",
        "    print(\"대중교통을 이용하자!\")\n",
        "  else:\n",
        "    print(\"걸어가라...\")\n",
        "    \n",
        "HowToGo(1000)\n",
        "HowToGo(2500)\n",
        "HowToGo(10000)"
      ],
      "execution_count": 24,
      "outputs": [
        {
          "output_type": "stream",
          "text": [
            "걸어가라...\n",
            "대중교통을 이용하자!\n",
            "택시를 타고 가자!\n"
          ],
          "name": "stdout"
        }
      ]
    },
    {
      "cell_type": "code",
      "metadata": {
        "id": "6K_SdTNfjolv",
        "colab_type": "code",
        "colab": {
          "base_uri": "https://localhost:8080/",
          "height": 52
        },
        "outputId": "be91f076-8cb8-43fb-b704-0fa423619af3"
      },
      "source": [
        "class calculator:\n",
        "  def __init__(self):\n",
        "    self.result = 0\n",
        "  \n",
        "  def add(self, a, b):\n",
        "    self.result = a + b\n",
        "    return self.result\n",
        "  \n",
        "  def minus(self, a, b):\n",
        "    self.result = a - b\n",
        "    return self.result\n",
        "  \n",
        "cal = calculator()\n",
        "  \n",
        "print(cal.add(4,5))\n",
        "print(cal.minus(3,9))"
      ],
      "execution_count": 28,
      "outputs": [
        {
          "output_type": "stream",
          "text": [
            "9\n",
            "-6\n"
          ],
          "name": "stdout"
        }
      ]
    },
    {
      "cell_type": "code",
      "metadata": {
        "id": "w0KiIHMdlkVL",
        "colab_type": "code",
        "colab": {}
      },
      "source": [
        "import torch"
      ],
      "execution_count": 0,
      "outputs": []
    },
    {
      "cell_type": "code",
      "metadata": {
        "id": "SLAk911Cmg4k",
        "colab_type": "code",
        "colab": {
          "base_uri": "https://localhost:8080/",
          "height": 105
        },
        "outputId": "a05ebf8f-9baa-4c15-efcc-6770c1020e6d"
      },
      "source": [
        "x=torch.empty(5,3)\n",
        "print(x)"
      ],
      "execution_count": 30,
      "outputs": [
        {
          "output_type": "stream",
          "text": [
            "tensor([[3.8429e-36, 0.0000e+00, 3.3631e-44],\n",
            "        [0.0000e+00,        nan, 1.9097e-19],\n",
            "        [1.1578e+27, 1.1362e+30, 7.1547e+22],\n",
            "        [4.5828e+30, 1.2121e+04, 7.1846e+22],\n",
            "        [9.2198e-39, 7.0374e+22, 3.5873e-43]])\n"
          ],
          "name": "stdout"
        }
      ]
    },
    {
      "cell_type": "code",
      "metadata": {
        "id": "OwFGXSA7m5fK",
        "colab_type": "code",
        "colab": {
          "base_uri": "https://localhost:8080/",
          "height": 105
        },
        "outputId": "a4e55113-d1fd-473d-c8de-41b49fd115f8"
      },
      "source": [
        "x=torch.rand(5,3)\n",
        "print(x)"
      ],
      "execution_count": 31,
      "outputs": [
        {
          "output_type": "stream",
          "text": [
            "tensor([[0.4901, 0.6412, 0.0765],\n",
            "        [0.8111, 0.8914, 0.9917],\n",
            "        [0.3977, 0.0580, 0.3113],\n",
            "        [0.5900, 0.7808, 0.4208],\n",
            "        [0.6949, 0.9458, 0.2844]])\n"
          ],
          "name": "stdout"
        }
      ]
    },
    {
      "cell_type": "code",
      "metadata": {
        "id": "Z97YdAabm9Jz",
        "colab_type": "code",
        "colab": {
          "base_uri": "https://localhost:8080/",
          "height": 105
        },
        "outputId": "36f76674-80a9-44e6-a771-eeed7ec45954"
      },
      "source": [
        "x=torch.zeros(5,3,dtype=torch.long)\n",
        "print(x)"
      ],
      "execution_count": 32,
      "outputs": [
        {
          "output_type": "stream",
          "text": [
            "tensor([[0, 0, 0],\n",
            "        [0, 0, 0],\n",
            "        [0, 0, 0],\n",
            "        [0, 0, 0],\n",
            "        [0, 0, 0]])\n"
          ],
          "name": "stdout"
        }
      ]
    },
    {
      "cell_type": "code",
      "metadata": {
        "id": "jTWJjUOdnDnX",
        "colab_type": "code",
        "colab": {
          "base_uri": "https://localhost:8080/",
          "height": 34
        },
        "outputId": "223c961b-f892-42d3-8d5e-f83fa154edcb"
      },
      "source": [
        "x=torch.tensor([5.5, 3])\n",
        "print(x)"
      ],
      "execution_count": 33,
      "outputs": [
        {
          "output_type": "stream",
          "text": [
            "tensor([5.5000, 3.0000])\n"
          ],
          "name": "stdout"
        }
      ]
    },
    {
      "cell_type": "code",
      "metadata": {
        "id": "AQXZb94snRzO",
        "colab_type": "code",
        "colab": {
          "base_uri": "https://localhost:8080/",
          "height": 175
        },
        "outputId": "732a250e-ebd7-4267-9785-2fda4355b1a8"
      },
      "source": [
        "x=torch.rand(3,4)\n",
        "y=torch.rand(3,4)\n",
        "z=torch.add(x,y)\n",
        "print(x,y,z, sep = \"\\n\")"
      ],
      "execution_count": 34,
      "outputs": [
        {
          "output_type": "stream",
          "text": [
            "tensor([[0.5190, 0.0628, 0.0997, 0.8543],\n",
            "        [0.0281, 0.0651, 0.2503, 0.5763],\n",
            "        [0.9444, 0.0868, 0.8907, 0.1704]])\n",
            "tensor([[0.7468, 0.2654, 0.1472, 0.4860],\n",
            "        [0.9581, 0.4683, 0.4488, 0.3522],\n",
            "        [0.8653, 0.8483, 0.2663, 0.1822]])\n",
            "tensor([[1.2657, 0.3282, 0.2469, 1.3403],\n",
            "        [0.9862, 0.5334, 0.6991, 0.9285],\n",
            "        [1.8097, 0.9350, 1.1570, 0.3526]])\n"
          ],
          "name": "stdout"
        }
      ]
    }
  ]
}
