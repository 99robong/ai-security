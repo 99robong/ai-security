{
  "nbformat": 4,
  "nbformat_minor": 0,
  "metadata": {
    "colab": {
      "name": "Untitled0.ipynb의 사본",
      "provenance": [],
      "include_colab_link": true
    },
    "kernelspec": {
      "name": "python3",
      "display_name": "Python 3"
    }
  },
  "cells": [
    {
      "cell_type": "markdown",
      "metadata": {
        "id": "view-in-github",
        "colab_type": "text"
      },
      "source": [
        "<a href=\"https://colab.research.google.com/github/neonin04/ai-security/blob/master/5th%20week/SooIn.ipynb\" target=\"_parent\"><img src=\"https://colab.research.google.com/assets/colab-badge.svg\" alt=\"Open In Colab\"/></a>"
      ]
    },
    {
      "cell_type": "code",
      "metadata": {
        "id": "PzqLvgMefSI6",
        "colab_type": "code",
        "outputId": "1bb26f6c-027c-4c90-f88c-ec8524589c9c",
        "colab": {
          "base_uri": "https://localhost:8080/",
          "height": 34
        }
      },
      "source": [
        "sum=0\n",
        "for i in range(10):\n",
        "  sum += i\n",
        "print(sum)"
      ],
      "execution_count": 0,
      "outputs": [
        {
          "output_type": "stream",
          "text": [
            "45\n"
          ],
          "name": "stdout"
        }
      ]
    },
    {
      "cell_type": "code",
      "metadata": {
        "id": "iiadK8IShsQp",
        "colab_type": "code",
        "outputId": "6bf9261a-3e57-425a-be83-87167691ee44",
        "colab": {
          "base_uri": "https://localhost:8080/",
          "height": 210
        }
      },
      "source": [
        "treeHit=0\n",
        "while treeHit <10:\n",
        "  treeHit += 1\n",
        "  print(\"나무를 %d 번 찍었습니다\", treeHit)\n",
        "  if treeHit == 10:\n",
        "    print(\"나무가 넘어갑니다\")"
      ],
      "execution_count": 0,
      "outputs": [
        {
          "output_type": "stream",
          "text": [
            "나무를 %d 번 찍었습니다 1\n",
            "나무를 %d 번 찍었습니다 2\n",
            "나무를 %d 번 찍었습니다 3\n",
            "나무를 %d 번 찍었습니다 4\n",
            "나무를 %d 번 찍었습니다 5\n",
            "나무를 %d 번 찍었습니다 6\n",
            "나무를 %d 번 찍었습니다 7\n",
            "나무를 %d 번 찍었습니다 8\n",
            "나무를 %d 번 찍었습니다 9\n",
            "나무를 %d 번 찍었습니다 10\n",
            "나무가 넘어갑니다\n"
          ],
          "name": "stdout"
        }
      ]
    },
    {
      "cell_type": "code",
      "metadata": {
        "id": "11CWryIainKZ",
        "colab_type": "code",
        "outputId": "da1d59d4-f502-4e56-ac6e-6400c818ac8f",
        "colab": {
          "base_uri": "https://localhost:8080/",
          "height": 70
        }
      },
      "source": [
        "def HowToGo(money):\n",
        "  if money >5000:\n",
        "    print(\"Taxi\")\n",
        "  elif money >1250:\n",
        "    print(\"Transportation\")\n",
        "  else:\n",
        "    print(\"Just Walk\")\n",
        "    \n",
        "HowToGo(1000)\n",
        "HowToGo(2500)\n",
        "HowToGo(10000)"
      ],
      "execution_count": 0,
      "outputs": [
        {
          "output_type": "stream",
          "text": [
            "Just Walk\n",
            "Transportation\n",
            "Taxi\n"
          ],
          "name": "stdout"
        }
      ]
    },
    {
      "cell_type": "code",
      "metadata": {
        "id": "svhmQJRkjMn7",
        "colab_type": "code",
        "outputId": "9e9683b3-790c-4177-ed5b-208e9a7bbf3c",
        "colab": {
          "base_uri": "https://localhost:8080/",
          "height": 52
        }
      },
      "source": [
        "class calculator:\n",
        "  def __init__(self):\n",
        "    self.result = 0\n",
        "    \n",
        "  def add (self, a, b):\n",
        "    self.result = a+b\n",
        "    return self.result\n",
        "  \n",
        "  def minus (self, a, b):\n",
        "    self.result = a-b\n",
        "    return self.result\n",
        "  \n",
        "cal = calculator()\n",
        "\n",
        "print(cal.add(1,2))\n",
        "print(cal.minus(3,4))"
      ],
      "execution_count": 0,
      "outputs": [
        {
          "output_type": "stream",
          "text": [
            "3\n",
            "-1\n"
          ],
          "name": "stdout"
        }
      ]
    },
    {
      "cell_type": "code",
      "metadata": {
        "id": "QNOavswAlhrz",
        "colab_type": "code",
        "colab": {}
      },
      "source": [
        "import torch"
      ],
      "execution_count": 0,
      "outputs": []
    },
    {
      "cell_type": "code",
      "metadata": {
        "id": "XuypTeXAl2ji",
        "colab_type": "code",
        "outputId": "53aad74f-fcd6-4e61-d516-0c3a1560f861",
        "colab": {
          "base_uri": "https://localhost:8080/",
          "height": 105
        }
      },
      "source": [
        "x = torch.empty(5,3)\n",
        "print(x)"
      ],
      "execution_count": 0,
      "outputs": [
        {
          "output_type": "stream",
          "text": [
            "tensor([[1.2671e-36, 0.0000e+00, 3.3631e-44],\n",
            "        [0.0000e+00,        nan, 1.9097e-19],\n",
            "        [1.1578e+27, 1.1362e+30, 7.1547e+22],\n",
            "        [4.5828e+30, 1.2121e+04, 7.1846e+22],\n",
            "        [9.2198e-39, 7.0374e+22, 3.5873e-43]])\n"
          ],
          "name": "stdout"
        }
      ]
    },
    {
      "cell_type": "code",
      "metadata": {
        "id": "d0uZo7aTmLmM",
        "colab_type": "code",
        "outputId": "8fd217ed-d252-4361-ed1c-bfe6d14c6eae",
        "colab": {
          "base_uri": "https://localhost:8080/",
          "height": 105
        }
      },
      "source": [
        "x = torch.rand(5,3)\n",
        "print(x)"
      ],
      "execution_count": 0,
      "outputs": [
        {
          "output_type": "stream",
          "text": [
            "tensor([[0.6560, 0.6074, 0.4220],\n",
            "        [0.7151, 0.1322, 0.4240],\n",
            "        [0.6735, 0.9306, 0.4533],\n",
            "        [0.2332, 0.3369, 0.0772],\n",
            "        [0.6162, 0.2537, 0.7886]])\n"
          ],
          "name": "stdout"
        }
      ]
    },
    {
      "cell_type": "code",
      "metadata": {
        "id": "uyUiOEKZmeRw",
        "colab_type": "code",
        "outputId": "6c94d385-6ed8-4b42-9b71-e18177612a67",
        "colab": {
          "base_uri": "https://localhost:8080/",
          "height": 175
        }
      },
      "source": [
        "x = torch.rand(3,4)\n",
        "y = torch.rand(3,4)\n",
        "z = torch.add(x,y)\n",
        "\n",
        "print(x,y,z, sep = \"\\n\")"
      ],
      "execution_count": 0,
      "outputs": [
        {
          "output_type": "stream",
          "text": [
            "tensor([[0.6610, 0.2302, 0.7685, 0.3266],\n",
            "        [0.3003, 0.3217, 0.6959, 0.1694],\n",
            "        [0.4027, 0.9911, 0.0686, 0.9321]])\n",
            "tensor([[0.6414, 0.9716, 0.5324, 0.4388],\n",
            "        [0.3673, 0.1350, 0.3189, 0.8234],\n",
            "        [0.3910, 0.2641, 0.7669, 0.4514]])\n",
            "tensor([[1.3024, 1.2018, 1.3009, 0.7654],\n",
            "        [0.6676, 0.4567, 1.0147, 0.9928],\n",
            "        [0.7937, 1.2552, 0.8354, 1.3835]])\n"
          ],
          "name": "stdout"
        }
      ]
    }
  ]
}