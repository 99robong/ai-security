{
  "nbformat": 4,
  "nbformat_minor": 0,
  "metadata": {
    "colab": {
      "name": "sangyun_1002.ipynb",
      "provenance": [],
      "collapsed_sections": [],
      "include_colab_link": true
    },
    "kernelspec": {
      "name": "python3",
      "display_name": "Python 3"
    }
  },
  "cells": [
    {
      "cell_type": "markdown",
      "metadata": {
        "id": "view-in-github",
        "colab_type": "text"
      },
      "source": [
        "<a href=\"https://colab.research.google.com/github/llimental/ai-security/blob/master/5th%20week/sangyun_1002.ipynb\" target=\"_parent\"><img src=\"https://colab.research.google.com/assets/colab-badge.svg\" alt=\"Open In Colab\"/></a>"
      ]
    },
    {
      "cell_type": "code",
      "metadata": {
        "id": "MiHV_-SQfSN0",
        "colab_type": "code",
        "colab": {
          "base_uri": "https://localhost:8080/",
          "height": 51
        },
        "outputId": "3a6858db-2ed9-409f-8a52-b0486d961801"
      },
      "source": [
        "a=100\n",
        "print(a)\n",
        "\n",
        "a=10.54\n",
        "print(a)"
      ],
      "execution_count": 3,
      "outputs": [
        {
          "output_type": "stream",
          "text": [
            "100\n",
            "10.54\n"
          ],
          "name": "stdout"
        }
      ]
    },
    {
      "cell_type": "code",
      "metadata": {
        "id": "prrk1JyOf3z9",
        "colab_type": "code",
        "colab": {
          "base_uri": "https://localhost:8080/",
          "height": 51
        },
        "outputId": "840bee77-9f81-433d-cc41-b260b2274aff"
      },
      "source": [
        "b=\"this is. string type\"\n",
        "print(b)\n",
        "\n",
        "b=\"a\"\n",
        "print(b)"
      ],
      "execution_count": 4,
      "outputs": [
        {
          "output_type": "stream",
          "text": [
            "this is. string type\n",
            "a\n"
          ],
          "name": "stdout"
        }
      ]
    },
    {
      "cell_type": "code",
      "metadata": {
        "id": "9_SlZ26Kf_cW",
        "colab_type": "code",
        "colab": {
          "base_uri": "https://localhost:8080/",
          "height": 34
        },
        "outputId": "830a6007-3d40-49a5-cadc-d454bd6488f1"
      },
      "source": [
        "list_arry=[1,4,6,\"abc\",\"ddg\"]\n",
        "print(list_arry)"
      ],
      "execution_count": 5,
      "outputs": [
        {
          "output_type": "stream",
          "text": [
            "[1, 4, 6, 'abc', 'ddg']\n"
          ],
          "name": "stdout"
        }
      ]
    },
    {
      "cell_type": "code",
      "metadata": {
        "id": "IGBZIBLggKFY",
        "colab_type": "code",
        "colab": {
          "base_uri": "https://localhost:8080/",
          "height": 34
        },
        "outputId": "4951b2be-6d8e-4de4-fcef-bf5c2ce60451"
      },
      "source": [
        "list_arry_2=[5,2,list_arry]\n",
        "print(list_arry_2)"
      ],
      "execution_count": 6,
      "outputs": [
        {
          "output_type": "stream",
          "text": [
            "[5, 2, [1, 4, 6, 'abc', 'ddg']]\n"
          ],
          "name": "stdout"
        }
      ]
    },
    {
      "cell_type": "code",
      "metadata": {
        "id": "eB8yFoNTgXM8",
        "colab_type": "code",
        "colab": {
          "base_uri": "https://localhost:8080/",
          "height": 34
        },
        "outputId": "74755e4c-5fa8-4890-9318-9ecb3938606a"
      },
      "source": [
        "tuple_arry=(3,5,2,\"gdd\")\n",
        "print(tuple_arry)"
      ],
      "execution_count": 7,
      "outputs": [
        {
          "output_type": "stream",
          "text": [
            "(3, 5, 2, 'gdd')\n"
          ],
          "name": "stdout"
        }
      ]
    },
    {
      "cell_type": "code",
      "metadata": {
        "id": "oqYi_APBkJCF",
        "colab_type": "code",
        "colab": {
          "base_uri": "https://localhost:8080/",
          "height": 164
        },
        "outputId": "87a521db-bf0b-40d4-83cd-3e8612ef9113"
      },
      "source": [
        "del tuple_arry[0]"
      ],
      "execution_count": 8,
      "outputs": [
        {
          "output_type": "error",
          "ename": "TypeError",
          "evalue": "ignored",
          "traceback": [
            "\u001b[0;31m---------------------------------------------------------------------------\u001b[0m",
            "\u001b[0;31mTypeError\u001b[0m                                 Traceback (most recent call last)",
            "\u001b[0;32m<ipython-input-8-400baae9fd20>\u001b[0m in \u001b[0;36m<module>\u001b[0;34m()\u001b[0m\n\u001b[0;32m----> 1\u001b[0;31m \u001b[0;32mdel\u001b[0m \u001b[0mtuple_arry\u001b[0m\u001b[0;34m[\u001b[0m\u001b[0;36m0\u001b[0m\u001b[0;34m]\u001b[0m\u001b[0;34m\u001b[0m\u001b[0;34m\u001b[0m\u001b[0m\n\u001b[0m",
            "\u001b[0;31mTypeError\u001b[0m: 'tuple' object doesn't support item deletion"
          ]
        }
      ]
    },
    {
      "cell_type": "code",
      "metadata": {
        "id": "JxY_kLd4kQQm",
        "colab_type": "code",
        "colab": {
          "base_uri": "https://localhost:8080/",
          "height": 34
        },
        "outputId": "97ea403c-0ad3-4e41-a528-6381f3baa9f0"
      },
      "source": [
        "dic_arry={1:\"first\", 2:\"second\", \"Third\":3}\n",
        "print(dic_arry)"
      ],
      "execution_count": 9,
      "outputs": [
        {
          "output_type": "stream",
          "text": [
            "{1: 'first', 2: 'second', 'Third': 3}\n"
          ],
          "name": "stdout"
        }
      ]
    },
    {
      "cell_type": "code",
      "metadata": {
        "id": "qx5qiK3dkW0k",
        "colab_type": "code",
        "colab": {
          "base_uri": "https://localhost:8080/",
          "height": 164
        },
        "outputId": "152b8db3-d485-4232-a7b8-28da70c67932"
      },
      "source": [
        "print(dic_arry[3])"
      ],
      "execution_count": 10,
      "outputs": [
        {
          "output_type": "error",
          "ename": "KeyError",
          "evalue": "ignored",
          "traceback": [
            "\u001b[0;31m---------------------------------------------------------------------------\u001b[0m",
            "\u001b[0;31mKeyError\u001b[0m                                  Traceback (most recent call last)",
            "\u001b[0;32m<ipython-input-10-59b1108f857d>\u001b[0m in \u001b[0;36m<module>\u001b[0;34m()\u001b[0m\n\u001b[0;32m----> 1\u001b[0;31m \u001b[0mprint\u001b[0m\u001b[0;34m(\u001b[0m\u001b[0mdic_arry\u001b[0m\u001b[0;34m[\u001b[0m\u001b[0;36m3\u001b[0m\u001b[0;34m]\u001b[0m\u001b[0;34m)\u001b[0m\u001b[0;34m\u001b[0m\u001b[0;34m\u001b[0m\u001b[0m\n\u001b[0m",
            "\u001b[0;31mKeyError\u001b[0m: 3"
          ]
        }
      ]
    },
    {
      "cell_type": "code",
      "metadata": {
        "id": "UMoWSL6ZkYjp",
        "colab_type": "code",
        "colab": {
          "base_uri": "https://localhost:8080/",
          "height": 34
        },
        "outputId": "57f119a8-8606-4f66-a552-5f199955b525"
      },
      "source": [
        "print(dic_arry[\"Third\"])"
      ],
      "execution_count": 11,
      "outputs": [
        {
          "output_type": "stream",
          "text": [
            "3\n"
          ],
          "name": "stdout"
        }
      ]
    },
    {
      "cell_type": "code",
      "metadata": {
        "id": "FlzDt8Pikcb6",
        "colab_type": "code",
        "colab": {
          "base_uri": "https://localhost:8080/",
          "height": 34
        },
        "outputId": "00d5ea04-e01e-4485-ba44-35598bac1d73"
      },
      "source": [
        "set_arry=set(\"heelo\")\n",
        "print(set_arry)"
      ],
      "execution_count": 12,
      "outputs": [
        {
          "output_type": "stream",
          "text": [
            "{'h', 'l', 'e', 'o'}\n"
          ],
          "name": "stdout"
        }
      ]
    },
    {
      "cell_type": "code",
      "metadata": {
        "id": "4J5s7gzgkpHc",
        "colab_type": "code",
        "colab": {
          "base_uri": "https://localhost:8080/",
          "height": 34
        },
        "outputId": "b78479bd-7085-4541-b5be-028c13079db9"
      },
      "source": [
        "c=True\n",
        "type(c)"
      ],
      "execution_count": 13,
      "outputs": [
        {
          "output_type": "execute_result",
          "data": {
            "text/plain": [
              "bool"
            ]
          },
          "metadata": {
            "tags": []
          },
          "execution_count": 13
        }
      ]
    },
    {
      "cell_type": "code",
      "metadata": {
        "id": "mjsWE_BEkwVh",
        "colab_type": "code",
        "colab": {
          "base_uri": "https://localhost:8080/",
          "height": 34
        },
        "outputId": "a4161f94-9677-4413-b873-a11aafccbf2f"
      },
      "source": [
        "sum=0\n",
        "for i in range(10):\n",
        "  sum+=i\n",
        "print(sum)"
      ],
      "execution_count": 14,
      "outputs": [
        {
          "output_type": "stream",
          "text": [
            "45\n"
          ],
          "name": "stdout"
        }
      ]
    },
    {
      "cell_type": "code",
      "metadata": {
        "id": "SanieGh8k3fs",
        "colab_type": "code",
        "colab": {
          "base_uri": "https://localhost:8080/",
          "height": 34
        },
        "outputId": "ef1fb3ad-d868-41df-b0a7-502df084cb6a"
      },
      "source": [
        "sum=0\n",
        "for i in range(1,11):\n",
        "  sum+=i\n",
        "print(sum)"
      ],
      "execution_count": 15,
      "outputs": [
        {
          "output_type": "stream",
          "text": [
            "55\n"
          ],
          "name": "stdout"
        }
      ]
    },
    {
      "cell_type": "code",
      "metadata": {
        "id": "r2kBJBYQpT89",
        "colab_type": "code",
        "colab": {
          "base_uri": "https://localhost:8080/",
          "height": 204
        },
        "outputId": "a383fcb0-1adb-4d29-fbb5-80188b1a0443"
      },
      "source": [
        "treeHit = 0\n",
        "while treeHit < 10:\n",
        "  treeHit += 1\n",
        "  print(\"나무를 %d 번 찍었습니다\" %treeHit)\n",
        "  if treeHit == 10:\n",
        "    print(\"나무가 넘어갑니다\")"
      ],
      "execution_count": 16,
      "outputs": [
        {
          "output_type": "stream",
          "text": [
            "나무를 1 번 찍었습니다\n",
            "나무를 2 번 찍었습니다\n",
            "나무를 3 번 찍었습니다\n",
            "나무를 4 번 찍었습니다\n",
            "나무를 5 번 찍었습니다\n",
            "나무를 6 번 찍었습니다\n",
            "나무를 7 번 찍었습니다\n",
            "나무를 8 번 찍었습니다\n",
            "나무를 9 번 찍었습니다\n",
            "나무를 10 번 찍었습니다\n",
            "나무가 넘어갑니다\n"
          ],
          "name": "stdout"
        }
      ]
    },
    {
      "cell_type": "code",
      "metadata": {
        "id": "mnEuhvb3pq-S",
        "colab_type": "code",
        "colab": {
          "base_uri": "https://localhost:8080/",
          "height": 68
        },
        "outputId": "46264228-fa29-49e0-8852-3933e9826115"
      },
      "source": [
        "for j in list_arry_2:\n",
        "  print(j)"
      ],
      "execution_count": 17,
      "outputs": [
        {
          "output_type": "stream",
          "text": [
            "5\n",
            "2\n",
            "[1, 4, 6, 'abc', 'ddg']\n"
          ],
          "name": "stdout"
        }
      ]
    },
    {
      "cell_type": "code",
      "metadata": {
        "id": "wUPBD1rjp2LI",
        "colab_type": "code",
        "colab": {
          "base_uri": "https://localhost:8080/",
          "height": 34
        },
        "outputId": "0aa86b71-2224-4c2f-a04e-cdcd55b763db"
      },
      "source": [
        "money = 1000\n",
        "if money > 5000:\n",
        "  print(\"택시를 타고 가자!\")\n",
        "elif money > 1250:\n",
        "  print(\"대중교통을 이용하자!\")\n",
        "else:\n",
        "  print(\"걸어가라...\")"
      ],
      "execution_count": 20,
      "outputs": [
        {
          "output_type": "stream",
          "text": [
            "걸어가라...\n"
          ],
          "name": "stdout"
        }
      ]
    },
    {
      "cell_type": "code",
      "metadata": {
        "id": "v12Z3RC9qPte",
        "colab_type": "code",
        "colab": {
          "base_uri": "https://localhost:8080/",
          "height": 34
        },
        "outputId": "46d1bd7e-916b-48fa-cbfe-66cdcf057b77"
      },
      "source": [
        "def HowToGo(money):\n",
        "  if money > 5000:\n",
        "    print(\"택시\")\n",
        "  elif money > 1250:\n",
        "    print(\"대중교통\")\n",
        "  else:\n",
        "    print(\"걷기\")\n",
        "    \n",
        "HowToGo(2500)"
      ],
      "execution_count": 21,
      "outputs": [
        {
          "output_type": "stream",
          "text": [
            "대중교통\n"
          ],
          "name": "stdout"
        }
      ]
    },
    {
      "cell_type": "code",
      "metadata": {
        "id": "CuQ3CBu1qf_o",
        "colab_type": "code",
        "colab": {
          "base_uri": "https://localhost:8080/",
          "height": 51
        },
        "outputId": "16f7c879-85bc-42a8-ccdc-716436f8c14a"
      },
      "source": [
        "class calculator:\n",
        "  def __init__(self):\n",
        "    self.result = 0\n",
        "    \n",
        "  def add(self, a, b):\n",
        "    self.result = a+b\n",
        "    return self.result\n",
        "  \n",
        "  def minus(self, a, b):\n",
        "    self.result = a - b\n",
        "    return self.result\n",
        "  \n",
        "cal = calculator()\n",
        "\n",
        "print(cal.add(4,5))\n",
        "print(cal.minus(3,9))"
      ],
      "execution_count": 22,
      "outputs": [
        {
          "output_type": "stream",
          "text": [
            "9\n",
            "-6\n"
          ],
          "name": "stdout"
        }
      ]
    },
    {
      "cell_type": "code",
      "metadata": {
        "id": "cYd1LXkWq1fV",
        "colab_type": "code",
        "colab": {}
      },
      "source": [
        "import torch"
      ],
      "execution_count": 0,
      "outputs": []
    },
    {
      "cell_type": "code",
      "metadata": {
        "id": "UTJx8XsMq3it",
        "colab_type": "code",
        "colab": {
          "base_uri": "https://localhost:8080/",
          "height": 102
        },
        "outputId": "dee4c112-ec5d-42e1-cdc3-1ceb064951b4"
      },
      "source": [
        "x=torch.empty(5,3)\n",
        "print(x)"
      ],
      "execution_count": 24,
      "outputs": [
        {
          "output_type": "stream",
          "text": [
            "tensor([[6.1775e-37, 0.0000e+00, 3.3631e-44],\n",
            "        [0.0000e+00,        nan, 0.0000e+00],\n",
            "        [1.1578e+27, 1.1362e+30, 7.1547e+22],\n",
            "        [4.5828e+30, 1.2121e+04, 7.1846e+22],\n",
            "        [9.2198e-39, 7.0374e+22, 0.0000e+00]])\n"
          ],
          "name": "stdout"
        }
      ]
    },
    {
      "cell_type": "code",
      "metadata": {
        "id": "Qvh-Apd3q7GM",
        "colab_type": "code",
        "colab": {
          "base_uri": "https://localhost:8080/",
          "height": 102
        },
        "outputId": "579deedc-f681-443d-e546-33bf7783c259"
      },
      "source": [
        "x = torch.rand(5,3)\n",
        "print(x)"
      ],
      "execution_count": 25,
      "outputs": [
        {
          "output_type": "stream",
          "text": [
            "tensor([[0.4098, 0.7482, 0.0491],\n",
            "        [0.0842, 0.7862, 0.1844],\n",
            "        [0.7298, 0.6842, 0.6734],\n",
            "        [0.0197, 0.3627, 0.0096],\n",
            "        [0.3329, 0.4401, 0.4084]])\n"
          ],
          "name": "stdout"
        }
      ]
    }
  ]
}