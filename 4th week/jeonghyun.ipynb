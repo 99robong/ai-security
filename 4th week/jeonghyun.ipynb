{
  "nbformat": 4,
  "nbformat_minor": 0,
  "metadata": {
    "colab": {
      "name": "jeonghyun.ipynb",
      "provenance": [],
      "collapsed_sections": [],
      "include_colab_link": true
    },
    "kernelspec": {
      "name": "python3",
      "display_name": "Python 3"
    },
    "accelerator": "GPU"
  },
  "cells": [
    {
      "cell_type": "markdown",
      "metadata": {
        "id": "view-in-github",
        "colab_type": "text"
      },
      "source": [
        "<a href=\"https://colab.research.google.com/github/newworldmuralist/ai-security/blob/master/4th%20week/jeonghyun.ipynb\" target=\"_parent\"><img src=\"https://colab.research.google.com/assets/colab-badge.svg\" alt=\"Open In Colab\"/></a>"
      ]
    },
    {
      "cell_type": "code",
      "metadata": {
        "id": "hPpADvyqeD8s",
        "colab_type": "code",
        "colab": {
          "base_uri": "https://localhost:8080/",
          "height": 125
        },
        "outputId": "44e6a86b-c773-4dff-89ba-7cb413a50c6a"
      },
      "source": [
        "from google.colab import drive\n",
        "drive.mount('/content/drive')"
      ],
      "execution_count": 3,
      "outputs": [
        {
          "output_type": "stream",
          "text": [
            "Go to this URL in a browser: https://accounts.google.com/o/oauth2/auth?client_id=947318989803-6bn6qk8qdgf4n4g3pfee6491hc0brc4i.apps.googleusercontent.com&redirect_uri=urn%3Aietf%3Awg%3Aoauth%3A2.0%3Aoob&scope=email%20https%3A%2F%2Fwww.googleapis.com%2Fauth%2Fdocs.test%20https%3A%2F%2Fwww.googleapis.com%2Fauth%2Fdrive%20https%3A%2F%2Fwww.googleapis.com%2Fauth%2Fdrive.photos.readonly%20https%3A%2F%2Fwww.googleapis.com%2Fauth%2Fpeopleapi.readonly&response_type=code\n",
            "\n",
            "Enter your authorization code:\n",
            "··········\n",
            "Mounted at /content/drive\n"
          ],
          "name": "stdout"
        }
      ]
    },
    {
      "cell_type": "code",
      "metadata": {
        "id": "MZTtpGBieidN",
        "colab_type": "code",
        "colab": {
          "base_uri": "https://localhost:8080/",
          "height": 34
        },
        "outputId": "fda98046-fba3-447d-e41e-8a077b07cbc0"
      },
      "source": [
        "!ls"
      ],
      "execution_count": 5,
      "outputs": [
        {
          "output_type": "stream",
          "text": [
            "drive  sample_data\n"
          ],
          "name": "stdout"
        }
      ]
    },
    {
      "cell_type": "code",
      "metadata": {
        "id": "2W2iFV-xepSK",
        "colab_type": "code",
        "colab": {
          "base_uri": "https://localhost:8080/",
          "height": 34
        },
        "outputId": "fd20ad9b-13cf-49e7-d36a-ce9d62a24165"
      },
      "source": [
        "!pwd"
      ],
      "execution_count": 6,
      "outputs": [
        {
          "output_type": "stream",
          "text": [
            "/content\n"
          ],
          "name": "stdout"
        }
      ]
    },
    {
      "cell_type": "code",
      "metadata": {
        "id": "st_napEFfTXZ",
        "colab_type": "code",
        "colab": {}
      },
      "source": [
        "import os\n",
        "os.chdir('drive/My Drive/ai-security')"
      ],
      "execution_count": 0,
      "outputs": []
    },
    {
      "cell_type": "code",
      "metadata": {
        "id": "KSjBiMT4fpKL",
        "colab_type": "code",
        "colab": {
          "base_uri": "https://localhost:8080/",
          "height": 34
        },
        "outputId": "486c8e18-3c20-4719-d752-77e37b12deb6"
      },
      "source": [
        "!pwd"
      ],
      "execution_count": 8,
      "outputs": [
        {
          "output_type": "stream",
          "text": [
            "/content/drive/My Drive/ai-security\n"
          ],
          "name": "stdout"
        }
      ]
    },
    {
      "cell_type": "markdown",
      "metadata": {
        "id": "Aup8dyWzf_KE",
        "colab_type": "text"
      },
      "source": [
        "이 셀에 대한 정보를 알려주는 주석 역할을 합니다.\n"
      ]
    },
    {
      "cell_type": "code",
      "metadata": {
        "id": "w7gstkXTgD8g",
        "colab_type": "code",
        "colab": {
          "base_uri": "https://localhost:8080/",
          "height": 140
        },
        "outputId": "54897fb9-0d0d-442a-dd4d-b21d1f5a48e5"
      },
      "source": [
        "!git clone https://github.com/newworldmuralist/ai-security.git"
      ],
      "execution_count": 10,
      "outputs": [
        {
          "output_type": "stream",
          "text": [
            "Cloning into 'ai-security'...\n",
            "remote: Enumerating objects: 70, done.\u001b[K\n",
            "remote: Counting objects:   1% (1/70)\u001b[K\rremote: Counting objects:   2% (2/70)\u001b[K\rremote: Counting objects:   4% (3/70)\u001b[K\rremote: Counting objects:   5% (4/70)\u001b[K\rremote: Counting objects:   7% (5/70)\u001b[K\rremote: Counting objects:   8% (6/70)\u001b[K\rremote: Counting objects:  10% (7/70)\u001b[K\rremote: Counting objects:  11% (8/70)\u001b[K\rremote: Counting objects:  12% (9/70)\u001b[K\rremote: Counting objects:  14% (10/70)\u001b[K\rremote: Counting objects:  15% (11/70)\u001b[K\rremote: Counting objects:  17% (12/70)\u001b[K\rremote: Counting objects:  18% (13/70)\u001b[K\rremote: Counting objects:  20% (14/70)\u001b[K\rremote: Counting objects:  21% (15/70)\u001b[K\rremote: Counting objects:  22% (16/70)\u001b[K\rremote: Counting objects:  24% (17/70)\u001b[K\rremote: Counting objects:  25% (18/70)\u001b[K\rremote: Counting objects:  27% (19/70)\u001b[K\rremote: Counting objects:  28% (20/70)\u001b[K\rremote: Counting objects:  30% (21/70)\u001b[K\rremote: Counting objects:  31% (22/70)\u001b[K\rremote: Counting objects:  32% (23/70)\u001b[K\rremote: Counting objects:  34% (24/70)\u001b[K\rremote: Counting objects:  35% (25/70)\u001b[K\rremote: Counting objects:  37% (26/70)\u001b[K\rremote: Counting objects:  38% (27/70)\u001b[K\rremote: Counting objects:  40% (28/70)\u001b[K\rremote: Counting objects:  41% (29/70)\u001b[K\rremote: Counting objects:  42% (30/70)\u001b[K\rremote: Counting objects:  44% (31/70)\u001b[K\rremote: Counting objects:  45% (32/70)\u001b[K\rremote: Counting objects:  47% (33/70)\u001b[K\rremote: Counting objects:  48% (34/70)\u001b[K\rremote: Counting objects:  50% (35/70)\u001b[K\rremote: Counting objects:  51% (36/70)\u001b[K\rremote: Counting objects:  52% (37/70)\u001b[K\rremote: Counting objects:  54% (38/70)\u001b[K\rremote: Counting objects:  55% (39/70)\u001b[K\rremote: Counting objects:  57% (40/70)\u001b[K\rremote: Counting objects:  58% (41/70)\u001b[K\rremote: Counting objects:  60% (42/70)\u001b[K\rremote: Counting objects:  61% (43/70)\u001b[K\rremote: Counting objects:  62% (44/70)\u001b[K\rremote: Counting objects:  64% (45/70)\u001b[K\rremote: Counting objects:  65% (46/70)\u001b[K\rremote: Counting objects:  67% (47/70)\u001b[K\rremote: Counting objects:  68% (48/70)\u001b[K\rremote: Counting objects:  70% (49/70)\u001b[K\rremote: Counting objects:  71% (50/70)\u001b[K\rremote: Counting objects:  72% (51/70)\u001b[K\rremote: Counting objects:  74% (52/70)\u001b[K\rremote: Counting objects:  75% (53/70)\u001b[K\rremote: Counting objects:  77% (54/70)\u001b[K\rremote: Counting objects:  78% (55/70)\u001b[K\rremote: Counting objects:  80% (56/70)\u001b[K\rremote: Counting objects:  81% (57/70)\u001b[K\rremote: Counting objects:  82% (58/70)\u001b[K\rremote: Counting objects:  84% (59/70)\u001b[K\rremote: Counting objects:  85% (60/70)\u001b[K\rremote: Counting objects:  87% (61/70)\u001b[K\rremote: Counting objects:  88% (62/70)\u001b[K\rremote: Counting objects:  90% (63/70)\u001b[K\rremote: Counting objects:  91% (64/70)\u001b[K\rremote: Counting objects:  92% (65/70)\u001b[K\rremote: Counting objects:  94% (66/70)\u001b[K\rremote: Counting objects:  95% (67/70)\u001b[K\rremote: Counting objects:  97% (68/70)\u001b[K\rremote: Counting objects:  98% (69/70)\u001b[K\rremote: Counting objects: 100% (70/70)\u001b[K\rremote: Counting objects: 100% (70/70), done.\u001b[K\n",
            "remote: Compressing objects:   1% (1/57)\u001b[K\rremote: Compressing objects:   3% (2/57)\u001b[K\rremote: Compressing objects:   5% (3/57)\u001b[K\rremote: Compressing objects:   7% (4/57)\u001b[K\rremote: Compressing objects:   8% (5/57)\u001b[K\rremote: Compressing objects:  10% (6/57)\u001b[K\rremote: Compressing objects:  12% (7/57)\u001b[K\rremote: Compressing objects:  14% (8/57)\u001b[K\rremote: Compressing objects:  15% (9/57)\u001b[K\rremote: Compressing objects:  17% (10/57)\u001b[K\rremote: Compressing objects:  19% (11/57)\u001b[K\rremote: Compressing objects:  21% (12/57)\u001b[K\rremote: Compressing objects:  22% (13/57)\u001b[K\rremote: Compressing objects:  24% (14/57)\u001b[K\rremote: Compressing objects:  26% (15/57)\u001b[K\rremote: Compressing objects:  28% (16/57)\u001b[K\rremote: Compressing objects:  29% (17/57)\u001b[K\rremote: Compressing objects:  31% (18/57)\u001b[K\rremote: Compressing objects:  33% (19/57)\u001b[K\rremote: Compressing objects:  35% (20/57)\u001b[K\rremote: Compressing objects:  36% (21/57)\u001b[K\rremote: Compressing objects:  38% (22/57)\u001b[K\rremote: Compressing objects:  40% (23/57)\u001b[K\rremote: Compressing objects:  42% (24/57)\u001b[K\rremote: Compressing objects:  43% (25/57)\u001b[K\rremote: Compressing objects:  45% (26/57)\u001b[K\rremote: Compressing objects:  47% (27/57)\u001b[K\rremote: Compressing objects:  49% (28/57)\u001b[K\rremote: Compressing objects:  50% (29/57)\u001b[K\rremote: Compressing objects:  52% (30/57)\u001b[K\rremote: Compressing objects:  54% (31/57)\u001b[K\rremote: Compressing objects:  56% (32/57)\u001b[K\rremote: Compressing objects:  57% (33/57)\u001b[K\rremote: Compressing objects:  59% (34/57)\u001b[K\rremote: Compressing objects:  61% (35/57)\u001b[K\rremote: Compressing objects:  63% (36/57)\u001b[K\rremote: Compressing objects:  64% (37/57)\u001b[K\rremote: Compressing objects:  66% (38/57)\u001b[K\rremote: Compressing objects:  68% (39/57)\u001b[K\rremote: Compressing objects:  70% (40/57)\u001b[K\rremote: Compressing objects:  71% (41/57)\u001b[K\rremote: Compressing objects:  73% (42/57)\u001b[K\rremote: Compressing objects:  75% (43/57)\u001b[K\rremote: Compressing objects:  77% (44/57)\u001b[K\rremote: Compressing objects:  78% (45/57)\u001b[K\rremote: Compressing objects:  80% (46/57)\u001b[K\rremote: Compressing objects:  82% (47/57)\u001b[K\rremote: Compressing objects:  84% (48/57)\u001b[K\rremote: Compressing objects:  85% (49/57)\u001b[K\rremote: Compressing objects:  87% (50/57)\u001b[K\rremote: Compressing objects:  89% (51/57)\u001b[K\rremote: Compressing objects:  91% (52/57)\u001b[K\rremote: Compressing objects:  92% (53/57)\u001b[K\rremote: Compressing objects:  94% (54/57)\u001b[K\rremote: Compressing objects:  96% (55/57)\u001b[K\rremote: Compressing objects:  98% (56/57)\u001b[K\rremote: Compressing objects: 100% (57/57)\u001b[K\rremote: Compressing objects: 100% (57/57), done.\u001b[K\n",
            "Receiving objects:   0% (1/253)   \rReceiving objects:   1% (3/253)   \rReceiving objects:   2% (6/253)   \rReceiving objects:   3% (8/253)   \rReceiving objects:   4% (11/253)   \rReceiving objects:   5% (13/253)   \rReceiving objects:   6% (16/253)   \rReceiving objects:   7% (18/253)   \rReceiving objects:   8% (21/253)   \rReceiving objects:   9% (23/253)   \rReceiving objects:  10% (26/253)   \rReceiving objects:  11% (28/253)   \rReceiving objects:  12% (31/253)   \rReceiving objects:  13% (33/253)   \rReceiving objects:  14% (36/253)   \rReceiving objects:  15% (38/253)   \rReceiving objects:  16% (41/253)   \rReceiving objects:  17% (44/253)   \rReceiving objects:  18% (46/253)   \rReceiving objects:  19% (49/253)   \rReceiving objects:  20% (51/253)   \rReceiving objects:  21% (54/253)   \rReceiving objects:  22% (56/253)   \rReceiving objects:  23% (59/253)   \rReceiving objects:  24% (61/253)   \rReceiving objects:  25% (64/253)   \rReceiving objects:  26% (66/253)   \rReceiving objects:  27% (69/253)   \rReceiving objects:  28% (71/253)   \rReceiving objects:  29% (74/253)   \rReceiving objects:  30% (76/253)   \rReceiving objects:  31% (79/253)   \rReceiving objects:  32% (81/253)   \rReceiving objects:  33% (84/253)   \rReceiving objects:  34% (87/253)   \rReceiving objects:  35% (89/253)   \rReceiving objects:  36% (92/253)   \rReceiving objects:  37% (94/253)   \rReceiving objects:  38% (97/253)   \rReceiving objects:  39% (99/253)   \rReceiving objects:  40% (102/253)   \rReceiving objects:  41% (104/253)   \rReceiving objects:  42% (107/253)   \rReceiving objects:  43% (109/253)   \rReceiving objects:  44% (112/253)   \rReceiving objects:  45% (114/253)   \rReceiving objects:  46% (117/253)   \rReceiving objects:  47% (119/253)   \rReceiving objects:  48% (122/253)   \rReceiving objects:  49% (124/253)   \rReceiving objects:  50% (127/253)   \rReceiving objects:  51% (130/253)   \rReceiving objects:  52% (132/253)   \rReceiving objects:  53% (135/253)   \rReceiving objects:  54% (137/253)   \rReceiving objects:  55% (140/253)   \rReceiving objects:  56% (142/253)   \rReceiving objects:  57% (145/253)   \rReceiving objects:  58% (147/253)   \rReceiving objects:  59% (150/253)   \rReceiving objects:  60% (152/253)   \rReceiving objects:  61% (155/253)   \rReceiving objects:  62% (157/253)   \rReceiving objects:  63% (160/253)   \rReceiving objects:  64% (162/253)   \rReceiving objects:  65% (165/253)   \rReceiving objects:  66% (167/253)   \rReceiving objects:  67% (170/253)   \rReceiving objects:  68% (173/253)   \rReceiving objects:  69% (175/253)   \rReceiving objects:  70% (178/253)   \rReceiving objects:  71% (180/253)   \rReceiving objects:  72% (183/253)   \rReceiving objects:  73% (185/253)   \rReceiving objects:  74% (188/253)   \rReceiving objects:  75% (190/253)   \rReceiving objects:  76% (193/253)   \rReceiving objects:  77% (195/253)   \rReceiving objects:  78% (198/253)   \rReceiving objects:  79% (200/253)   \rReceiving objects:  80% (203/253)   \rReceiving objects:  81% (205/253)   \rReceiving objects:  82% (208/253)   \rReceiving objects:  83% (210/253)   \rReceiving objects:  84% (213/253)   \rremote: Total 253 (delta 36), reused 26 (delta 9), pack-reused 183\u001b[K\n",
            "Receiving objects:  85% (216/253)   \rReceiving objects:  86% (218/253)   \rReceiving objects:  87% (221/253)   \rReceiving objects:  88% (223/253)   \rReceiving objects:  89% (226/253)   \rReceiving objects:  90% (228/253)   \rReceiving objects:  91% (231/253)   \rReceiving objects:  92% (233/253)   \rReceiving objects:  93% (236/253)   \rReceiving objects:  94% (238/253)   \rReceiving objects:  95% (241/253)   \rReceiving objects:  96% (243/253)   \rReceiving objects:  97% (246/253)   \rReceiving objects:  98% (248/253)   \rReceiving objects:  99% (251/253)   \rReceiving objects: 100% (253/253)   \rReceiving objects: 100% (253/253), 1.13 MiB | 7.27 MiB/s, done.\n",
            "Resolving deltas:   0% (0/89)   \rResolving deltas:   4% (4/89)   \rResolving deltas:   5% (5/89)   \rResolving deltas:  10% (9/89)   \rResolving deltas:  43% (39/89)   \rResolving deltas:  46% (41/89)   \rResolving deltas:  47% (42/89)   \rResolving deltas:  50% (45/89)   \rResolving deltas:  51% (46/89)   \rResolving deltas:  52% (47/89)   \rResolving deltas:  55% (49/89)   \rResolving deltas:  65% (58/89)   \rResolving deltas:  67% (60/89)   \rResolving deltas:  76% (68/89)   \rResolving deltas:  95% (85/89)   \rResolving deltas:  97% (87/89)   \rResolving deltas: 100% (89/89)   \rResolving deltas: 100% (89/89), done.\n"
          ],
          "name": "stdout"
        }
      ]
    },
    {
      "cell_type": "code",
      "metadata": {
        "id": "5fbyEc8Xjr-F",
        "colab_type": "code",
        "colab": {
          "base_uri": "https://localhost:8080/",
          "height": 122
        },
        "outputId": "fe73ac3e-3899-4c0a-87ab-08aaec8eef92"
      },
      "source": [
        "!git clone https://github.com/GunhoChoi/PyTorch-FastCampus.git"
      ],
      "execution_count": 11,
      "outputs": [
        {
          "output_type": "stream",
          "text": [
            "Cloning into 'PyTorch-FastCampus'...\n",
            "remote: Enumerating objects: 1359, done.\u001b[K\n",
            "remote: Total 1359 (delta 0), reused 0 (delta 0), pack-reused 1359\u001b[K\n",
            "Receiving objects: 100% (1359/1359), 216.17 MiB | 20.75 MiB/s, done.\n",
            "Resolving deltas: 100% (464/464), done.\n",
            "Checking out files: 100% (540/540), done.\n"
          ],
          "name": "stdout"
        }
      ]
    }
  ]
}